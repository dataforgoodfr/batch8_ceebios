{
 "cells": [
  {
   "cell_type": "markdown",
   "metadata": {},
   "source": [
    "#### Multiprocessing tools\n",
    "\n",
    "- to clean and index faster papers\n",
    "\n",
    "Christian Maréchal"
   ]
  },
  {
   "cell_type": "code",
   "execution_count": 1,
   "metadata": {},
   "outputs": [],
   "source": [
    "import time\n",
    "import random\n",
    "\n",
    "import sys\n",
    "sys.path.append('../lib')\n",
    "\n",
    "from task_pool import Task_pool_p"
   ]
  },
  {
   "cell_type": "markdown",
   "metadata": {},
   "source": [
    "- let's define an exemple of parallelized work    \n",
    "with some additions, loops and 1 seconde of sleep\n"
   ]
  },
  {
   "cell_type": "code",
   "execution_count": 2,
   "metadata": {},
   "outputs": [],
   "source": [
    "def work_todo2(number, tab, toexit=True):\n",
    "    ''' exemple of work which can process in parallel '''\n",
    "    # print(\"work-todo\", number)\n",
    "    it = iter(range(0, len(tab)+1))\n",
    "\n",
    "    a = tab[next(it)]\n",
    "    b = tab[next(it)]\n",
    "    c = tab[next(it)]\n",
    "\n",
    "    d = 0\n",
    "    time.sleep(1)\n",
    "    for i in range(0, 100000):\n",
    "        for j in range(0, 10):\n",
    "            d = a + b + c + i\n",
    "    if toexit==True:       \n",
    "        if number==20:\n",
    "            pass # sys.exit(0)\n",
    "        sys.exit(1)\n"
   ]
  },
  {
   "cell_type": "markdown",
   "metadata": {},
   "source": [
    "- comparison between a full scan iteration and  a multiptocessing one"
   ]
  },
  {
   "cell_type": "code",
   "execution_count": 3,
   "metadata": {},
   "outputs": [],
   "source": [
    "def test_Task_pool_p():\n",
    "    ''' example of use Task_pool_p class '''\n",
    "    \n",
    "    total = 120\n",
    "    if True:\n",
    "        print('1) full scan iteration:')\n",
    "        ts = time.time()\n",
    "        tsx = time.time()\n",
    "        for x in range(0, total):\n",
    "            a = random.randint(0,9)\n",
    "            b = random.randint(0,77)\n",
    "            c = random.randint(0,100)\n",
    "            tab = [a, b, c]\n",
    "            # print('iter', x)\n",
    "            work_todo2(0, tab, False)\n",
    "            if time.time()-tsx>20:\n",
    "                print('-x:', x, '/', 120, round(time.time()-ts, 2))\n",
    "                tsx = time.time()\n",
    "        ts_fullScan = round(time.time()-ts, 2)\n",
    "        print('end iteration:')\n",
    "\n",
    "    if True:\n",
    "        print('2) parallel')\n",
    "        ts = time.time()\n",
    "        tsx = time.time()\n",
    "        job = Task_pool_p(None, 30)\n",
    "        ret = True\n",
    "        for x in range(0, total):\n",
    "            a = random.randint(0,9)\n",
    "            b = random.randint(0,77)\n",
    "            c = random.randint(0,100)\n",
    "            tab = [a, b, c]\n",
    "            job.task_map(tab, work_todo2)\n",
    "            if time.time()-tsx>20:\n",
    "                print('-x:', x, '/', 120, round(time.time()-ts, 2))\n",
    "                tsx = time.time()\n",
    "        ret, tot_res = job.task_reduce()\n",
    "        ts_par = round(time.time()-ts, 2)\n",
    "        print('end parallel:', ret, tot_res, ts_par)\n",
    "        print('iteration:', ts_fullScan, ' vs parallel:', ts_par)"
   ]
  },
  {
   "cell_type": "code",
   "execution_count": 4,
   "metadata": {},
   "outputs": [
    {
     "name": "stdout",
     "output_type": "stream",
     "text": [
      "1) full scan iteration:\n",
      "-x: 17 / 120 20.75\n",
      "-x: 35 / 120 41.37\n",
      "-x: 53 / 120 62.11\n",
      "-x: 71 / 120 82.39\n",
      "-x: 89 / 120 102.65\n",
      "-x: 107 / 120 123.16\n",
      "end iteration:\n",
      "2) parallel\n",
      "p True 120 120\n",
      "end parallel: True 120 4.99\n",
      "iteration: 136.77  vs parallel: 4.99\n"
     ]
    }
   ],
   "source": [
    " test_Task_pool_p()"
   ]
  },
  {
   "cell_type": "code",
   "execution_count": null,
   "metadata": {},
   "outputs": [],
   "source": []
  }
 ],
 "metadata": {
  "kernelspec": {
   "display_name": "Python 3",
   "language": "python",
   "name": "python3"
  },
  "language_info": {
   "codemirror_mode": {
    "name": "ipython",
    "version": 3
   },
   "file_extension": ".py",
   "mimetype": "text/x-python",
   "name": "python",
   "nbconvert_exporter": "python",
   "pygments_lexer": "ipython3",
   "version": "3.6.5"
  }
 },
 "nbformat": 4,
 "nbformat_minor": 2
}
