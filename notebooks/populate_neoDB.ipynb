{
 "cells": [
  {
   "cell_type": "code",
   "execution_count": 1,
   "metadata": {},
   "outputs": [],
   "source": [
    "from neo4j import GraphDatabase\n",
    "from tqdm.notebook import tqdm\n",
    "import pandas as pd"
   ]
  },
  {
   "cell_type": "markdown",
   "metadata": {},
   "source": [
    "# \"Populer\" une base Neo4j"
   ]
  },
  {
   "cell_type": "markdown",
   "metadata": {},
   "source": [
    "Pré-requis :\n",
    "1. Installation de Neo4j Browser: https://neo4j.com/download/\n",
    "2. Création du Base de données Neo4j en local depuis le Neo4j browser :https://neo4j.com/developer/neo4j-desktop/"
   ]
  },
  {
   "cell_type": "code",
   "execution_count": 2,
   "metadata": {},
   "outputs": [],
   "source": [
    "#/!\\ Penser à changer les credentials \n",
    "db_params = {\n",
    "    \"uri\":\"bolt://localhost:7687\",\n",
    "    \"user\":\"neo4j\",\n",
    "    \"password\":\"treeoflife\"\n",
    "}"
   ]
  },
  {
   "cell_type": "code",
   "execution_count": 3,
   "metadata": {},
   "outputs": [],
   "source": [
    "ranks = ['kingdom','phylum','class','family','order','genus','species']\n",
    "df = pd.read_csv(\"../data/gbif_extract.csv\",index_col=0)"
   ]
  },
  {
   "cell_type": "code",
   "execution_count": 4,
   "metadata": {},
   "outputs": [
    {
     "output_type": "execute_result",
     "data": {
      "text/plain": [
       "    key  nubKey  nameKey    taxonID  sourceTaxonKey   kingdom      phylum  \\\n",
       "0  8003    8003  6849425  gbif:8003     156957565.0  Animalia  Arthropoda   \n",
       "1  8004    8004  7068178  gbif:8004     156957851.0  Animalia  Arthropoda   \n",
       "2  8005    8005  7669892  gbif:8005     156957506.0  Animalia  Arthropoda   \n",
       "3  8006    8006  7718541  gbif:8006     156957210.0  Animalia  Arthropoda   \n",
       "4  8007    8007  7848133  gbif:8007     156085450.0  Animalia  Arthropoda   \n",
       "\n",
       "       order         family  kingdomKey  ...  \\\n",
       "0  Amphipoda      Melitidae           1  ...   \n",
       "1  Amphipoda   Mimonectidae           1  ...   \n",
       "2  Amphipoda     Ochlesidae           1  ...   \n",
       "3  Amphipoda  Oedicerotidae           1  ...   \n",
       "4  Amphipoda       Opisidae           1  ...   \n",
       "\n",
       "                                         publishedIn  acceptedKey  accepted  \\\n",
       "0                                                NaN          NaN       NaN   \n",
       "1                                                NaN          NaN       NaN   \n",
       "2                                                NaN          NaN       NaN   \n",
       "3  LILLJEBORG, W. (1865). On the Lysianassa magel...          NaN       NaN   \n",
       "4  Lowry, J. K.; Stoddart, H. E. (1995). The Amph...          NaN       NaN   \n",
       "\n",
       "   proParteKey genus genusKey  species speciesKey basionymKey basionym  \n",
       "0          NaN   NaN      NaN      NaN        NaN         NaN      NaN  \n",
       "1          NaN   NaN      NaN      NaN        NaN         NaN      NaN  \n",
       "2          NaN   NaN      NaN      NaN        NaN         NaN      NaN  \n",
       "3          NaN   NaN      NaN      NaN        NaN         NaN      NaN  \n",
       "4          NaN   NaN      NaN      NaN        NaN         NaN      NaN  \n",
       "\n",
       "[5 rows x 43 columns]"
      ],
      "text/html": "<div>\n<style scoped>\n    .dataframe tbody tr th:only-of-type {\n        vertical-align: middle;\n    }\n\n    .dataframe tbody tr th {\n        vertical-align: top;\n    }\n\n    .dataframe thead th {\n        text-align: right;\n    }\n</style>\n<table border=\"1\" class=\"dataframe\">\n  <thead>\n    <tr style=\"text-align: right;\">\n      <th></th>\n      <th>key</th>\n      <th>nubKey</th>\n      <th>nameKey</th>\n      <th>taxonID</th>\n      <th>sourceTaxonKey</th>\n      <th>kingdom</th>\n      <th>phylum</th>\n      <th>order</th>\n      <th>family</th>\n      <th>kingdomKey</th>\n      <th>...</th>\n      <th>publishedIn</th>\n      <th>acceptedKey</th>\n      <th>accepted</th>\n      <th>proParteKey</th>\n      <th>genus</th>\n      <th>genusKey</th>\n      <th>species</th>\n      <th>speciesKey</th>\n      <th>basionymKey</th>\n      <th>basionym</th>\n    </tr>\n  </thead>\n  <tbody>\n    <tr>\n      <th>0</th>\n      <td>8003</td>\n      <td>8003</td>\n      <td>6849425</td>\n      <td>gbif:8003</td>\n      <td>156957565.0</td>\n      <td>Animalia</td>\n      <td>Arthropoda</td>\n      <td>Amphipoda</td>\n      <td>Melitidae</td>\n      <td>1</td>\n      <td>...</td>\n      <td>NaN</td>\n      <td>NaN</td>\n      <td>NaN</td>\n      <td>NaN</td>\n      <td>NaN</td>\n      <td>NaN</td>\n      <td>NaN</td>\n      <td>NaN</td>\n      <td>NaN</td>\n      <td>NaN</td>\n    </tr>\n    <tr>\n      <th>1</th>\n      <td>8004</td>\n      <td>8004</td>\n      <td>7068178</td>\n      <td>gbif:8004</td>\n      <td>156957851.0</td>\n      <td>Animalia</td>\n      <td>Arthropoda</td>\n      <td>Amphipoda</td>\n      <td>Mimonectidae</td>\n      <td>1</td>\n      <td>...</td>\n      <td>NaN</td>\n      <td>NaN</td>\n      <td>NaN</td>\n      <td>NaN</td>\n      <td>NaN</td>\n      <td>NaN</td>\n      <td>NaN</td>\n      <td>NaN</td>\n      <td>NaN</td>\n      <td>NaN</td>\n    </tr>\n    <tr>\n      <th>2</th>\n      <td>8005</td>\n      <td>8005</td>\n      <td>7669892</td>\n      <td>gbif:8005</td>\n      <td>156957506.0</td>\n      <td>Animalia</td>\n      <td>Arthropoda</td>\n      <td>Amphipoda</td>\n      <td>Ochlesidae</td>\n      <td>1</td>\n      <td>...</td>\n      <td>NaN</td>\n      <td>NaN</td>\n      <td>NaN</td>\n      <td>NaN</td>\n      <td>NaN</td>\n      <td>NaN</td>\n      <td>NaN</td>\n      <td>NaN</td>\n      <td>NaN</td>\n      <td>NaN</td>\n    </tr>\n    <tr>\n      <th>3</th>\n      <td>8006</td>\n      <td>8006</td>\n      <td>7718541</td>\n      <td>gbif:8006</td>\n      <td>156957210.0</td>\n      <td>Animalia</td>\n      <td>Arthropoda</td>\n      <td>Amphipoda</td>\n      <td>Oedicerotidae</td>\n      <td>1</td>\n      <td>...</td>\n      <td>LILLJEBORG, W. (1865). On the Lysianassa magel...</td>\n      <td>NaN</td>\n      <td>NaN</td>\n      <td>NaN</td>\n      <td>NaN</td>\n      <td>NaN</td>\n      <td>NaN</td>\n      <td>NaN</td>\n      <td>NaN</td>\n      <td>NaN</td>\n    </tr>\n    <tr>\n      <th>4</th>\n      <td>8007</td>\n      <td>8007</td>\n      <td>7848133</td>\n      <td>gbif:8007</td>\n      <td>156085450.0</td>\n      <td>Animalia</td>\n      <td>Arthropoda</td>\n      <td>Amphipoda</td>\n      <td>Opisidae</td>\n      <td>1</td>\n      <td>...</td>\n      <td>Lowry, J. K.; Stoddart, H. E. (1995). The Amph...</td>\n      <td>NaN</td>\n      <td>NaN</td>\n      <td>NaN</td>\n      <td>NaN</td>\n      <td>NaN</td>\n      <td>NaN</td>\n      <td>NaN</td>\n      <td>NaN</td>\n      <td>NaN</td>\n    </tr>\n  </tbody>\n</table>\n<p>5 rows × 43 columns</p>\n</div>"
     },
     "metadata": {},
     "execution_count": 4
    }
   ],
   "source": [
    "df.head()"
   ]
  },
  {
   "cell_type": "markdown",
   "metadata": {},
   "source": [
    "### Préparation des données\n",
    "restriction du tree of life au phylum Rotifera"
   ]
  },
  {
   "cell_type": "code",
   "execution_count": 5,
   "metadata": {},
   "outputs": [],
   "source": [
    "data = df.loc[\n",
    "    (df['rank']=='SPECIES') \n",
    "    & (df.kingdom == 'Animalia') \n",
    "    & (df.phylum == 'Rotifera'),\n",
    "    ranks].dropna()"
   ]
  },
  {
   "cell_type": "markdown",
   "metadata": {},
   "source": [
    "### Générations des éléments du graphes"
   ]
  },
  {
   "cell_type": "code",
   "execution_count": 6,
   "metadata": {},
   "outputs": [],
   "source": [
    "def get_edges(df):\n",
    "    '''génère l'esemble des couples distincts neoud noeud qui définissent une arête'''\n",
    "    edges = []\n",
    "    for i in range(len(ranks[:-1])):\n",
    "        rank_pair = ranks[i:i+2]\n",
    "        rank_edges = df[rank_pair].dropna(how='any').drop_duplicates().apply(tuple,axis=1).values\n",
    "        edges.extend(rank_edges)\n",
    "    return edges\n",
    "\n",
    "def get_nodes(df):\n",
    "    '''génère la liste des différents taxons (noeuds) contenu dans le dataset'''\n",
    "    nodes = []\n",
    "    for rank in ranks:\n",
    "        rank_nodes = list(zip(df[rank].unique(), [rank for i in range(len(df[rank].unique()))]))\n",
    "        nodes.extend(rank_nodes)\n",
    "    return nodes"
   ]
  },
  {
   "cell_type": "code",
   "execution_count": 7,
   "metadata": {},
   "outputs": [],
   "source": [
    "edges = get_edges(data)\n",
    "nodes = get_nodes(data)"
   ]
  },
  {
   "cell_type": "code",
   "execution_count": 8,
   "metadata": {},
   "outputs": [
    {
     "output_type": "execute_result",
     "data": {
      "text/plain": [
       "[('Animalia', 'kingdom'), ('Rotifera', 'phylum'), ('Eurotatoria', 'class')]"
      ]
     },
     "metadata": {},
     "execution_count": 8
    }
   ],
   "source": [
    "nodes[:3]"
   ]
  },
  {
   "cell_type": "code",
   "execution_count": 9,
   "metadata": {},
   "outputs": [
    {
     "output_type": "execute_result",
     "data": {
      "text/plain": [
       "[('Animalia', 'Rotifera'),\n",
       " ('Rotifera', 'Eurotatoria'),\n",
       " ('Rotifera', 'Pararotatoria')]"
      ]
     },
     "metadata": {},
     "execution_count": 9
    }
   ],
   "source": [
    "edges[:3]"
   ]
  },
  {
   "cell_type": "markdown",
   "metadata": {},
   "source": [
    "# Instanciation d'un driver Neo4j \n",
    "cf : https://neo4j.com/docs/api/python-driver/current/\n",
    "\n",
    "/!\\Vérifier préalablement depuis le Neo4j Browser que votre Bdd est bien en \"running \"\n"
   ]
  },
  {
   "cell_type": "code",
   "execution_count": 10,
   "metadata": {},
   "outputs": [],
   "source": [
    "driver = GraphDatabase.driver(\n",
    "    db_params['uri'], \n",
    "    auth=(db_params['user'], \n",
    "    db_params['password'])\n",
    ")"
   ]
  },
  {
   "cell_type": "markdown",
   "metadata": {},
   "source": [
    "### \"Helper functions\"pour créer le graphe"
   ]
  },
  {
   "cell_type": "markdown",
   "metadata": {},
   "source": [
    "cf Cypher cheat-sheet : https://mpolinowski.github.io/neo-4-j-cypher-cheat-sheet"
   ]
  },
  {
   "cell_type": "code",
   "execution_count": 11,
   "metadata": {},
   "outputs": [],
   "source": [
    "def create_node(tx, name, rank):\n",
    "    '''créer un Noeud de type `Entity` ayant pour attributs un nom et un rang taxonomique'''\n",
    "    return tx.run(\n",
    "        \"CREATE (a:Entity {name: $name, rank:$rank}) RETURN id(a)\", \n",
    "        name=name, \n",
    "        rank=rank\n",
    "    ).single().value()\n",
    "\n",
    "\n",
    "def add_children(tx, name, child):\n",
    "        '''lie 2 noeuds type `Entity` par une relation `HAS_CHILD` (arête orientée)'''\n",
    "        tx.run('''MATCH (a: Entity)\n",
    "                MATCH (b: Entity)\n",
    "                WHERE a.name = $name AND b.name =$child AND a.name <> b.name\n",
    "                CREATE (a)-[:HAS_CHILD]->(b)''',\n",
    "                name=name, child=child)"
   ]
  },
  {
   "cell_type": "markdown",
   "metadata": {},
   "source": [
    "### Ecriture en Base (Un peu long)"
   ]
  },
  {
   "cell_type": "code",
   "execution_count": null,
   "metadata": {},
   "outputs": [],
   "source": [
    "with driver.session() as session:\n",
    "    for node in tqdm(nodes, desc='NODES '):\n",
    "        session.write_transaction(create_node, node[0], node[1])\n",
    "    for edge in tqdm(edges, desc =\"EDGES \"):\n",
    "        session.write_transaction(add_children, edge[0], edge[1])\n",
    "driver.close()"
   ]
  },
  {
   "source": [
    "### Requetage avec py2neo\n",
    "cf: https://py2neo.org/2020.0/"
   ],
   "cell_type": "markdown",
   "metadata": {}
  },
  {
   "cell_type": "code",
   "execution_count": 12,
   "metadata": {},
   "outputs": [],
   "source": [
    "from py2neo import Graph, Node, Relationship\n",
    "from py2neo.matching import *\n",
    "from py2neo.ogm import Model, Property"
   ]
  },
  {
   "cell_type": "code",
   "execution_count": 13,
   "metadata": {},
   "outputs": [],
   "source": [
    "graph = Graph(db_params['uri'], user=db_params['user'], password=db_params['password'])"
   ]
  },
  {
   "cell_type": "code",
   "execution_count": 14,
   "metadata": {},
   "outputs": [
    {
     "output_type": "execute_result",
     "data": {
      "text/plain": [
       "Node('Node', name='Animalia', rank='kingdom')"
      ]
     },
     "metadata": {},
     "execution_count": 14
    }
   ],
   "source": [
    "graph.nodes.match(\"Node\", name=\"Animalia\").first()"
   ]
  },
  {
   "cell_type": "code",
   "execution_count": null,
   "metadata": {},
   "outputs": [],
   "source": []
  }
 ],
 "metadata": {
  "kernelspec": {
   "display_name": "Python 3",
   "language": "python",
   "name": "python3"
  },
  "language_info": {
   "codemirror_mode": {
    "name": "ipython",
    "version": 3
   },
   "file_extension": ".py",
   "mimetype": "text/x-python",
   "name": "python",
   "nbconvert_exporter": "python",
   "pygments_lexer": "ipython3",
   "version": "3.8.3-final"
  }
 },
 "nbformat": 4,
 "nbformat_minor": 4
}