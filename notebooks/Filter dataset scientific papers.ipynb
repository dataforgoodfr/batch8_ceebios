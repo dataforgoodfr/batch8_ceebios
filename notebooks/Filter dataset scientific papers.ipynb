{
 "cells": [
  {
   "cell_type": "markdown",
   "metadata": {},
   "source": [
    "## Get all archives using http://s2-public-api-prod.us-west-2.elasticbeanstalk.com/corpus/download/\n",
    "\n",
    "Need to find a way to filter all these articles and keep only those which can be of interest to us i.e. those talking about species.\n",
    "\n",
    "Idealy we need to tag each article of interest with:\n",
    "- tag of the specie it talks about\n",
    "- tag of the genus\n",
    "- tag of the family\n",
    "\n",
    "We can base our work on: \n",
    "- paper title\n",
    "- paper abstract\n",
    "\n",
    "Our assumption is that is the author used a particular species for his article, he will mention it either in the title or the abstract (strong assumption).\n",
    "\n",
    "First I will study papers' abstract. "
   ]
  },
  {
   "cell_type": "markdown",
   "metadata": {},
   "source": [
    "In a given gz file, we will need to drop all rows with no abstract. "
   ]
  },
  {
   "cell_type": "markdown",
   "metadata": {},
   "source": [
    "#### Imports"
   ]
  },
  {
   "cell_type": "code",
   "execution_count": 1,
   "metadata": {},
   "outputs": [],
   "source": [
    "import json\n",
    "import pandas as pd\n",
    "import gzip\n",
    "import os\n",
    "import io\n",
    "from langdetect import detect\n",
    "import nltk\n",
    "from nltk.corpus import stopwords\n",
    "from nltk.tokenize import word_tokenize "
   ]
  },
  {
   "cell_type": "code",
   "execution_count": 2,
   "metadata": {},
   "outputs": [],
   "source": [
    "from typing import List, Dict, Union, Set"
   ]
  },
  {
   "cell_type": "markdown",
   "metadata": {},
   "source": [
    "### Get data"
   ]
  },
  {
   "cell_type": "code",
   "execution_count": 3,
   "metadata": {},
   "outputs": [],
   "source": [
    "data_dir = \"/Users/chloesekkat/Documents/batch8_ceebios/data_open_source\""
   ]
  },
  {
   "cell_type": "code",
   "execution_count": 4,
   "metadata": {},
   "outputs": [],
   "source": [
    "def get_gz_files(data_dir: str) -> List[Dict]:\n",
    "    \"\"\"\n",
    "    Get list of json files from gz files.\n",
    "    \"\"\"\n",
    "    for file in os.listdir(data_dir):\n",
    "        json_list = []\n",
    "        if file.endswith('.gz'):\n",
    "            gz = gzip.open(os.path.join(data_dir, file), 'rb')\n",
    "            f = io.BufferedReader(gz)\n",
    "            for line in f.readlines():\n",
    "                json_list.append(json.loads(line))\n",
    "            gz.close()\n",
    "        return json_list"
   ]
  },
  {
   "cell_type": "code",
   "execution_count": 5,
   "metadata": {},
   "outputs": [],
   "source": [
    "json_list = get_gz_files(data_dir)"
   ]
  },
  {
   "cell_type": "code",
   "execution_count": 6,
   "metadata": {},
   "outputs": [],
   "source": [
    "data = pd.DataFrame(json_list)"
   ]
  },
  {
   "cell_type": "code",
   "execution_count": 7,
   "metadata": {},
   "outputs": [
    {
     "data": {
      "text/plain": [
       "(32229, 21)"
      ]
     },
     "execution_count": 7,
     "metadata": {},
     "output_type": "execute_result"
    }
   ],
   "source": [
    "data.shape"
   ]
  },
  {
   "cell_type": "code",
   "execution_count": 8,
   "metadata": {},
   "outputs": [],
   "source": [
    "def missing_data(data: pd.DataFrame) -> pd.DataFrame:\n",
    "    total = data.isnull().sum()\n",
    "    percent = (data.isnull().sum()/data.isnull().count()*100)\n",
    "    tt = pd.concat([total, percent], axis=1, keys=['Total', 'Percent'])\n",
    "    return(tt)"
   ]
  },
  {
   "cell_type": "code",
   "execution_count": 9,
   "metadata": {},
   "outputs": [
    {
     "data": {
      "text/html": [
       "<div>\n",
       "<style scoped>\n",
       "    .dataframe tbody tr th:only-of-type {\n",
       "        vertical-align: middle;\n",
       "    }\n",
       "\n",
       "    .dataframe tbody tr th {\n",
       "        vertical-align: top;\n",
       "    }\n",
       "\n",
       "    .dataframe thead th {\n",
       "        text-align: right;\n",
       "    }\n",
       "</style>\n",
       "<table border=\"1\" class=\"dataframe\">\n",
       "  <thead>\n",
       "    <tr style=\"text-align: right;\">\n",
       "      <th></th>\n",
       "      <th>Total</th>\n",
       "      <th>Percent</th>\n",
       "    </tr>\n",
       "  </thead>\n",
       "  <tbody>\n",
       "    <tr>\n",
       "      <th>id</th>\n",
       "      <td>0</td>\n",
       "      <td>0.00000</td>\n",
       "    </tr>\n",
       "    <tr>\n",
       "      <th>title</th>\n",
       "      <td>0</td>\n",
       "      <td>0.00000</td>\n",
       "    </tr>\n",
       "    <tr>\n",
       "      <th>paperAbstract</th>\n",
       "      <td>0</td>\n",
       "      <td>0.00000</td>\n",
       "    </tr>\n",
       "    <tr>\n",
       "      <th>authors</th>\n",
       "      <td>0</td>\n",
       "      <td>0.00000</td>\n",
       "    </tr>\n",
       "    <tr>\n",
       "      <th>inCitations</th>\n",
       "      <td>0</td>\n",
       "      <td>0.00000</td>\n",
       "    </tr>\n",
       "    <tr>\n",
       "      <th>outCitations</th>\n",
       "      <td>0</td>\n",
       "      <td>0.00000</td>\n",
       "    </tr>\n",
       "    <tr>\n",
       "      <th>year</th>\n",
       "      <td>254</td>\n",
       "      <td>0.78811</td>\n",
       "    </tr>\n",
       "    <tr>\n",
       "      <th>s2Url</th>\n",
       "      <td>0</td>\n",
       "      <td>0.00000</td>\n",
       "    </tr>\n",
       "    <tr>\n",
       "      <th>sources</th>\n",
       "      <td>0</td>\n",
       "      <td>0.00000</td>\n",
       "    </tr>\n",
       "    <tr>\n",
       "      <th>pdfUrls</th>\n",
       "      <td>0</td>\n",
       "      <td>0.00000</td>\n",
       "    </tr>\n",
       "    <tr>\n",
       "      <th>venue</th>\n",
       "      <td>0</td>\n",
       "      <td>0.00000</td>\n",
       "    </tr>\n",
       "    <tr>\n",
       "      <th>journalName</th>\n",
       "      <td>0</td>\n",
       "      <td>0.00000</td>\n",
       "    </tr>\n",
       "    <tr>\n",
       "      <th>journalVolume</th>\n",
       "      <td>0</td>\n",
       "      <td>0.00000</td>\n",
       "    </tr>\n",
       "    <tr>\n",
       "      <th>journalPages</th>\n",
       "      <td>0</td>\n",
       "      <td>0.00000</td>\n",
       "    </tr>\n",
       "    <tr>\n",
       "      <th>doi</th>\n",
       "      <td>0</td>\n",
       "      <td>0.00000</td>\n",
       "    </tr>\n",
       "    <tr>\n",
       "      <th>doiUrl</th>\n",
       "      <td>0</td>\n",
       "      <td>0.00000</td>\n",
       "    </tr>\n",
       "    <tr>\n",
       "      <th>pmid</th>\n",
       "      <td>0</td>\n",
       "      <td>0.00000</td>\n",
       "    </tr>\n",
       "    <tr>\n",
       "      <th>fieldsOfStudy</th>\n",
       "      <td>0</td>\n",
       "      <td>0.00000</td>\n",
       "    </tr>\n",
       "    <tr>\n",
       "      <th>magId</th>\n",
       "      <td>0</td>\n",
       "      <td>0.00000</td>\n",
       "    </tr>\n",
       "    <tr>\n",
       "      <th>s2PdfUrl</th>\n",
       "      <td>0</td>\n",
       "      <td>0.00000</td>\n",
       "    </tr>\n",
       "    <tr>\n",
       "      <th>entities</th>\n",
       "      <td>0</td>\n",
       "      <td>0.00000</td>\n",
       "    </tr>\n",
       "  </tbody>\n",
       "</table>\n",
       "</div>"
      ],
      "text/plain": [
       "               Total  Percent\n",
       "id                 0  0.00000\n",
       "title              0  0.00000\n",
       "paperAbstract      0  0.00000\n",
       "authors            0  0.00000\n",
       "inCitations        0  0.00000\n",
       "outCitations       0  0.00000\n",
       "year             254  0.78811\n",
       "s2Url              0  0.00000\n",
       "sources            0  0.00000\n",
       "pdfUrls            0  0.00000\n",
       "venue              0  0.00000\n",
       "journalName        0  0.00000\n",
       "journalVolume      0  0.00000\n",
       "journalPages       0  0.00000\n",
       "doi                0  0.00000\n",
       "doiUrl             0  0.00000\n",
       "pmid               0  0.00000\n",
       "fieldsOfStudy      0  0.00000\n",
       "magId              0  0.00000\n",
       "s2PdfUrl           0  0.00000\n",
       "entities           0  0.00000"
      ]
     },
     "execution_count": 9,
     "metadata": {},
     "output_type": "execute_result"
    }
   ],
   "source": [
    "missing_data(data)"
   ]
  },
  {
   "cell_type": "code",
   "execution_count": 10,
   "metadata": {},
   "outputs": [
    {
     "data": {
      "text/html": [
       "<div>\n",
       "<style scoped>\n",
       "    .dataframe tbody tr th:only-of-type {\n",
       "        vertical-align: middle;\n",
       "    }\n",
       "\n",
       "    .dataframe tbody tr th {\n",
       "        vertical-align: top;\n",
       "    }\n",
       "\n",
       "    .dataframe thead th {\n",
       "        text-align: right;\n",
       "    }\n",
       "</style>\n",
       "<table border=\"1\" class=\"dataframe\">\n",
       "  <thead>\n",
       "    <tr style=\"text-align: right;\">\n",
       "      <th></th>\n",
       "      <th>id</th>\n",
       "      <th>title</th>\n",
       "      <th>paperAbstract</th>\n",
       "      <th>authors</th>\n",
       "      <th>inCitations</th>\n",
       "      <th>outCitations</th>\n",
       "      <th>year</th>\n",
       "      <th>s2Url</th>\n",
       "      <th>sources</th>\n",
       "      <th>pdfUrls</th>\n",
       "      <th>...</th>\n",
       "      <th>journalName</th>\n",
       "      <th>journalVolume</th>\n",
       "      <th>journalPages</th>\n",
       "      <th>doi</th>\n",
       "      <th>doiUrl</th>\n",
       "      <th>pmid</th>\n",
       "      <th>fieldsOfStudy</th>\n",
       "      <th>magId</th>\n",
       "      <th>s2PdfUrl</th>\n",
       "      <th>entities</th>\n",
       "    </tr>\n",
       "  </thead>\n",
       "  <tbody>\n",
       "    <tr>\n",
       "      <th>0</th>\n",
       "      <td>5cf3fcad3ee67c45f1c3d98c2b4bc22f683bfca7</td>\n",
       "      <td>Quantum phase diagrams and time-of-flight pict...</td>\n",
       "      <td>By treating the hopping parameter as a perturb...</td>\n",
       "      <td>[{'name': 'Jun  Zhang', 'ids': ['49050562']}, ...</td>\n",
       "      <td>[7dfd349892b456de2b60a9e9a4dedfbaeedf767f]</td>\n",
       "      <td>[b029856e343340fc7c034f514dc15a2ad49f6c1a, 7c8...</td>\n",
       "      <td>2016.0</td>\n",
       "      <td>https://semanticscholar.org/paper/5cf3fcad3ee6...</td>\n",
       "      <td>[]</td>\n",
       "      <td>[]</td>\n",
       "      <td>...</td>\n",
       "      <td>Laser Physics</td>\n",
       "      <td>26</td>\n",
       "      <td>095501</td>\n",
       "      <td>10.1088/1054-660X/26/9/095501</td>\n",
       "      <td>https://doi.org/10.1088/1054-660X%2F26%2F9%2F0...</td>\n",
       "      <td></td>\n",
       "      <td>[Physics]</td>\n",
       "      <td>2461559103</td>\n",
       "      <td></td>\n",
       "      <td>[]</td>\n",
       "    </tr>\n",
       "    <tr>\n",
       "      <th>1</th>\n",
       "      <td>9758f471a6789d32e9d684856c1b257b1fbb5546</td>\n",
       "      <td>IPCC (Intergovernmental Panel on Climate Chang...</td>\n",
       "      <td>The European Science Foundation (ESF) and the ...</td>\n",
       "      <td>[{'name': 'Richard C. J. Somerville', 'ids': [...</td>\n",
       "      <td>[eca662dc341726551b1e74e9bc86d6f9aa37b15e, efd...</td>\n",
       "      <td>[]</td>\n",
       "      <td>2008.0</td>\n",
       "      <td>https://semanticscholar.org/paper/9758f471a678...</td>\n",
       "      <td>[]</td>\n",
       "      <td>[]</td>\n",
       "      <td>...</td>\n",
       "      <td></td>\n",
       "      <td></td>\n",
       "      <td></td>\n",
       "      <td></td>\n",
       "      <td></td>\n",
       "      <td></td>\n",
       "      <td>[]</td>\n",
       "      <td>2902693084</td>\n",
       "      <td></td>\n",
       "      <td>[]</td>\n",
       "    </tr>\n",
       "    <tr>\n",
       "      <th>2</th>\n",
       "      <td>73236ad2ede98f3f3f6acbf83a463b4afe2dd1fb</td>\n",
       "      <td>Increasing CRISPR Efficiency and Measuring Its...</td>\n",
       "      <td>Genome editing of human cluster of differentia...</td>\n",
       "      <td>[{'name': 'Jenny  Shapiro', 'ids': ['36049549'...</td>\n",
       "      <td>[]</td>\n",
       "      <td>[d83ebd27f91b75b472da63636596668da6c72059, 56c...</td>\n",
       "      <td>2020.0</td>\n",
       "      <td>https://semanticscholar.org/paper/73236ad2ede9...</td>\n",
       "      <td>[Medline]</td>\n",
       "      <td>[]</td>\n",
       "      <td>...</td>\n",
       "      <td>Molecular Therapy. Methods &amp; Clinical Development</td>\n",
       "      <td>17</td>\n",
       "      <td>1097 - 1107</td>\n",
       "      <td>10.1016/j.omtm.2020.04.027</td>\n",
       "      <td>https://doi.org/10.1016/j.omtm.2020.04.027</td>\n",
       "      <td>32478125</td>\n",
       "      <td>[Biology, Medicine]</td>\n",
       "      <td>3022279551</td>\n",
       "      <td></td>\n",
       "      <td>[]</td>\n",
       "    </tr>\n",
       "    <tr>\n",
       "      <th>3</th>\n",
       "      <td>3d9a672fef4b9fe99cd948787e340d68fbf1513b</td>\n",
       "      <td>Don’t You Be Telling Me How Tah Talk: Educatio...</td>\n",
       "      <td></td>\n",
       "      <td>[{'name': 'LaQuita N Gresham', 'ids': ['811828...</td>\n",
       "      <td>[]</td>\n",
       "      <td>[3285d0b0374acfeaeca887ba5e884d62393d5e40, 136...</td>\n",
       "      <td>2014.0</td>\n",
       "      <td>https://semanticscholar.org/paper/3d9a672fef4b...</td>\n",
       "      <td>[]</td>\n",
       "      <td>[]</td>\n",
       "      <td>...</td>\n",
       "      <td></td>\n",
       "      <td></td>\n",
       "      <td></td>\n",
       "      <td></td>\n",
       "      <td></td>\n",
       "      <td></td>\n",
       "      <td>[Medicine]</td>\n",
       "      <td>49447698</td>\n",
       "      <td></td>\n",
       "      <td>[]</td>\n",
       "    </tr>\n",
       "    <tr>\n",
       "      <th>4</th>\n",
       "      <td>251045388ce98e901ccc7d22ae754a224c72dc28</td>\n",
       "      <td>Therapeutic effect of taurine against aluminum...</td>\n",
       "      <td>The aim of the study was to demonstrate the th...</td>\n",
       "      <td>[{'name': 'Springer-Verlag  Italia', 'ids': ['...</td>\n",
       "      <td>[077ca4833b07ff8fb39501d915f43d48976c7eab]</td>\n",
       "      <td>[fb93f765e84bfcbdc722c07762e247a544bae269, 21b...</td>\n",
       "      <td>2014.0</td>\n",
       "      <td>https://semanticscholar.org/paper/251045388ce9...</td>\n",
       "      <td>[]</td>\n",
       "      <td>[]</td>\n",
       "      <td>...</td>\n",
       "      <td></td>\n",
       "      <td></td>\n",
       "      <td></td>\n",
       "      <td></td>\n",
       "      <td></td>\n",
       "      <td></td>\n",
       "      <td>[Medicine]</td>\n",
       "      <td>2327692075</td>\n",
       "      <td></td>\n",
       "      <td>[]</td>\n",
       "    </tr>\n",
       "  </tbody>\n",
       "</table>\n",
       "<p>5 rows × 21 columns</p>\n",
       "</div>"
      ],
      "text/plain": [
       "                                         id  \\\n",
       "0  5cf3fcad3ee67c45f1c3d98c2b4bc22f683bfca7   \n",
       "1  9758f471a6789d32e9d684856c1b257b1fbb5546   \n",
       "2  73236ad2ede98f3f3f6acbf83a463b4afe2dd1fb   \n",
       "3  3d9a672fef4b9fe99cd948787e340d68fbf1513b   \n",
       "4  251045388ce98e901ccc7d22ae754a224c72dc28   \n",
       "\n",
       "                                               title  \\\n",
       "0  Quantum phase diagrams and time-of-flight pict...   \n",
       "1  IPCC (Intergovernmental Panel on Climate Chang...   \n",
       "2  Increasing CRISPR Efficiency and Measuring Its...   \n",
       "3  Don’t You Be Telling Me How Tah Talk: Educatio...   \n",
       "4  Therapeutic effect of taurine against aluminum...   \n",
       "\n",
       "                                       paperAbstract  \\\n",
       "0  By treating the hopping parameter as a perturb...   \n",
       "1  The European Science Foundation (ESF) and the ...   \n",
       "2  Genome editing of human cluster of differentia...   \n",
       "3                                                      \n",
       "4  The aim of the study was to demonstrate the th...   \n",
       "\n",
       "                                             authors  \\\n",
       "0  [{'name': 'Jun  Zhang', 'ids': ['49050562']}, ...   \n",
       "1  [{'name': 'Richard C. J. Somerville', 'ids': [...   \n",
       "2  [{'name': 'Jenny  Shapiro', 'ids': ['36049549'...   \n",
       "3  [{'name': 'LaQuita N Gresham', 'ids': ['811828...   \n",
       "4  [{'name': 'Springer-Verlag  Italia', 'ids': ['...   \n",
       "\n",
       "                                         inCitations  \\\n",
       "0         [7dfd349892b456de2b60a9e9a4dedfbaeedf767f]   \n",
       "1  [eca662dc341726551b1e74e9bc86d6f9aa37b15e, efd...   \n",
       "2                                                 []   \n",
       "3                                                 []   \n",
       "4         [077ca4833b07ff8fb39501d915f43d48976c7eab]   \n",
       "\n",
       "                                        outCitations    year  \\\n",
       "0  [b029856e343340fc7c034f514dc15a2ad49f6c1a, 7c8...  2016.0   \n",
       "1                                                 []  2008.0   \n",
       "2  [d83ebd27f91b75b472da63636596668da6c72059, 56c...  2020.0   \n",
       "3  [3285d0b0374acfeaeca887ba5e884d62393d5e40, 136...  2014.0   \n",
       "4  [fb93f765e84bfcbdc722c07762e247a544bae269, 21b...  2014.0   \n",
       "\n",
       "                                               s2Url    sources pdfUrls  ...  \\\n",
       "0  https://semanticscholar.org/paper/5cf3fcad3ee6...         []      []  ...   \n",
       "1  https://semanticscholar.org/paper/9758f471a678...         []      []  ...   \n",
       "2  https://semanticscholar.org/paper/73236ad2ede9...  [Medline]      []  ...   \n",
       "3  https://semanticscholar.org/paper/3d9a672fef4b...         []      []  ...   \n",
       "4  https://semanticscholar.org/paper/251045388ce9...         []      []  ...   \n",
       "\n",
       "                                         journalName journalVolume  \\\n",
       "0                                      Laser Physics            26   \n",
       "1                                                                    \n",
       "2  Molecular Therapy. Methods & Clinical Development            17   \n",
       "3                                                                    \n",
       "4                                                                    \n",
       "\n",
       "  journalPages                            doi  \\\n",
       "0       095501  10.1088/1054-660X/26/9/095501   \n",
       "1                                               \n",
       "2  1097 - 1107     10.1016/j.omtm.2020.04.027   \n",
       "3                                               \n",
       "4                                               \n",
       "\n",
       "                                              doiUrl      pmid  \\\n",
       "0  https://doi.org/10.1088/1054-660X%2F26%2F9%2F0...             \n",
       "1                                                                \n",
       "2         https://doi.org/10.1016/j.omtm.2020.04.027  32478125   \n",
       "3                                                                \n",
       "4                                                                \n",
       "\n",
       "         fieldsOfStudy       magId s2PdfUrl entities  \n",
       "0            [Physics]  2461559103                []  \n",
       "1                   []  2902693084                []  \n",
       "2  [Biology, Medicine]  3022279551                []  \n",
       "3           [Medicine]    49447698                []  \n",
       "4           [Medicine]  2327692075                []  \n",
       "\n",
       "[5 rows x 21 columns]"
      ]
     },
     "execution_count": 10,
     "metadata": {},
     "output_type": "execute_result"
    }
   ],
   "source": [
    "data.head()"
   ]
  },
  {
   "cell_type": "code",
   "execution_count": 11,
   "metadata": {},
   "outputs": [
    {
     "data": {
      "text/plain": [
       "str"
      ]
     },
     "execution_count": 11,
     "metadata": {},
     "output_type": "execute_result"
    }
   ],
   "source": [
    "type(data.iloc[3][\"paperAbstract\"])"
   ]
  },
  {
   "cell_type": "markdown",
   "metadata": {},
   "source": [
    "We need to remove the rows with empty string."
   ]
  },
  {
   "cell_type": "code",
   "execution_count": 12,
   "metadata": {},
   "outputs": [],
   "source": [
    "def remove_empty_abstract(df: pd.DataFrame) -> pd.DataFrame:\n",
    "    \"\"\"\n",
    "    Remove rows where paper abstract is an empty string.\n",
    "    \"\"\"\n",
    "    where = df[\"paperAbstract\"].values != \"\"\n",
    "    return df[where]"
   ]
  },
  {
   "cell_type": "code",
   "execution_count": 13,
   "metadata": {},
   "outputs": [],
   "source": [
    "data = remove_empty_abstract(data)"
   ]
  },
  {
   "cell_type": "code",
   "execution_count": 14,
   "metadata": {},
   "outputs": [],
   "source": [
    "to_keep = [\n",
    "    \"title\",\n",
    "    \"paperAbstract\",\n",
    "    \"fieldsOfStudy\"\n",
    "]\n",
    "\n",
    "def keep_columns(df: pd.DataFrame, cols_to_keep: List[str]) -> pd.DataFrame:\n",
    "    \"\"\"\n",
    "    Return dataframe with wanted columns.\n",
    "    \"\"\"\n",
    "    return df[cols_to_keep]"
   ]
  },
  {
   "cell_type": "code",
   "execution_count": 15,
   "metadata": {},
   "outputs": [],
   "source": [
    "data = keep_columns(data, to_keep)"
   ]
  },
  {
   "cell_type": "code",
   "execution_count": 16,
   "metadata": {},
   "outputs": [
    {
     "data": {
      "text/html": [
       "<div>\n",
       "<style scoped>\n",
       "    .dataframe tbody tr th:only-of-type {\n",
       "        vertical-align: middle;\n",
       "    }\n",
       "\n",
       "    .dataframe tbody tr th {\n",
       "        vertical-align: top;\n",
       "    }\n",
       "\n",
       "    .dataframe thead th {\n",
       "        text-align: right;\n",
       "    }\n",
       "</style>\n",
       "<table border=\"1\" class=\"dataframe\">\n",
       "  <thead>\n",
       "    <tr style=\"text-align: right;\">\n",
       "      <th></th>\n",
       "      <th>title</th>\n",
       "      <th>paperAbstract</th>\n",
       "      <th>fieldsOfStudy</th>\n",
       "    </tr>\n",
       "  </thead>\n",
       "  <tbody>\n",
       "    <tr>\n",
       "      <th>0</th>\n",
       "      <td>Quantum phase diagrams and time-of-flight pict...</td>\n",
       "      <td>By treating the hopping parameter as a perturb...</td>\n",
       "      <td>[Physics]</td>\n",
       "    </tr>\n",
       "    <tr>\n",
       "      <th>1</th>\n",
       "      <td>IPCC (Intergovernmental Panel on Climate Chang...</td>\n",
       "      <td>The European Science Foundation (ESF) and the ...</td>\n",
       "      <td>[]</td>\n",
       "    </tr>\n",
       "    <tr>\n",
       "      <th>2</th>\n",
       "      <td>Increasing CRISPR Efficiency and Measuring Its...</td>\n",
       "      <td>Genome editing of human cluster of differentia...</td>\n",
       "      <td>[Biology, Medicine]</td>\n",
       "    </tr>\n",
       "    <tr>\n",
       "      <th>4</th>\n",
       "      <td>Therapeutic effect of taurine against aluminum...</td>\n",
       "      <td>The aim of the study was to demonstrate the th...</td>\n",
       "      <td>[Medicine]</td>\n",
       "    </tr>\n",
       "    <tr>\n",
       "      <th>6</th>\n",
       "      <td>Mechanism of 'crowd' in evolutionary MAS for m...</td>\n",
       "      <td>This work introduces a new evolutionary approa...</td>\n",
       "      <td>[Computer Science]</td>\n",
       "    </tr>\n",
       "  </tbody>\n",
       "</table>\n",
       "</div>"
      ],
      "text/plain": [
       "                                               title  \\\n",
       "0  Quantum phase diagrams and time-of-flight pict...   \n",
       "1  IPCC (Intergovernmental Panel on Climate Chang...   \n",
       "2  Increasing CRISPR Efficiency and Measuring Its...   \n",
       "4  Therapeutic effect of taurine against aluminum...   \n",
       "6  Mechanism of 'crowd' in evolutionary MAS for m...   \n",
       "\n",
       "                                       paperAbstract        fieldsOfStudy  \n",
       "0  By treating the hopping parameter as a perturb...            [Physics]  \n",
       "1  The European Science Foundation (ESF) and the ...                   []  \n",
       "2  Genome editing of human cluster of differentia...  [Biology, Medicine]  \n",
       "4  The aim of the study was to demonstrate the th...           [Medicine]  \n",
       "6  This work introduces a new evolutionary approa...   [Computer Science]  "
      ]
     },
     "execution_count": 16,
     "metadata": {},
     "output_type": "execute_result"
    }
   ],
   "source": [
    "data.head()"
   ]
  },
  {
   "cell_type": "code",
   "execution_count": 17,
   "metadata": {},
   "outputs": [],
   "source": [
    "def keep_english_titles(df: pd.DataFrame) -> pd.DataFrame:\n",
    "    \"\"\"\n",
    "    Keep only papers with title in english.\n",
    "    \"\"\"\n",
    "    keep_indexes = [] # get lits of indexes that we will keep\n",
    "    df = df.reset_index(drop=True)\n",
    "    for i, element in enumerate(df[\"title\"]):\n",
    "        try:\n",
    "            res = detect(element)\n",
    "            if res == 'en':\n",
    "                keep_indexes.append(i)\n",
    "        except:\n",
    "            print('Error with: ', element)\n",
    "            print(type(element))\n",
    "    return df[df.index.isin(keep_indexes)]"
   ]
  },
  {
   "cell_type": "code",
   "execution_count": 18,
   "metadata": {},
   "outputs": [],
   "source": [
    "# TODO: changer la fonction précédente avec un map "
   ]
  },
  {
   "cell_type": "code",
   "execution_count": 19,
   "metadata": {},
   "outputs": [
    {
     "name": "stdout",
     "output_type": "stream",
     "text": [
      "Error with:  206\n",
      "<class 'str'>\n"
     ]
    }
   ],
   "source": [
    "data = keep_english_titles(data)"
   ]
  },
  {
   "cell_type": "code",
   "execution_count": 20,
   "metadata": {},
   "outputs": [
    {
     "data": {
      "text/plain": [
       "(14425, 3)"
      ]
     },
     "execution_count": 20,
     "metadata": {},
     "output_type": "execute_result"
    }
   ],
   "source": [
    "data.shape"
   ]
  },
  {
   "cell_type": "code",
   "execution_count": 21,
   "metadata": {},
   "outputs": [
    {
     "data": {
      "text/html": [
       "<div>\n",
       "<style scoped>\n",
       "    .dataframe tbody tr th:only-of-type {\n",
       "        vertical-align: middle;\n",
       "    }\n",
       "\n",
       "    .dataframe tbody tr th {\n",
       "        vertical-align: top;\n",
       "    }\n",
       "\n",
       "    .dataframe thead th {\n",
       "        text-align: right;\n",
       "    }\n",
       "</style>\n",
       "<table border=\"1\" class=\"dataframe\">\n",
       "  <thead>\n",
       "    <tr style=\"text-align: right;\">\n",
       "      <th></th>\n",
       "      <th>title</th>\n",
       "      <th>paperAbstract</th>\n",
       "      <th>fieldsOfStudy</th>\n",
       "    </tr>\n",
       "  </thead>\n",
       "  <tbody>\n",
       "    <tr>\n",
       "      <th>0</th>\n",
       "      <td>Quantum phase diagrams and time-of-flight pict...</td>\n",
       "      <td>By treating the hopping parameter as a perturb...</td>\n",
       "      <td>[Physics]</td>\n",
       "    </tr>\n",
       "    <tr>\n",
       "      <th>1</th>\n",
       "      <td>IPCC (Intergovernmental Panel on Climate Chang...</td>\n",
       "      <td>The European Science Foundation (ESF) and the ...</td>\n",
       "      <td>[]</td>\n",
       "    </tr>\n",
       "    <tr>\n",
       "      <th>2</th>\n",
       "      <td>Increasing CRISPR Efficiency and Measuring Its...</td>\n",
       "      <td>Genome editing of human cluster of differentia...</td>\n",
       "      <td>[Biology, Medicine]</td>\n",
       "    </tr>\n",
       "    <tr>\n",
       "      <th>3</th>\n",
       "      <td>Therapeutic effect of taurine against aluminum...</td>\n",
       "      <td>The aim of the study was to demonstrate the th...</td>\n",
       "      <td>[Medicine]</td>\n",
       "    </tr>\n",
       "    <tr>\n",
       "      <th>4</th>\n",
       "      <td>Mechanism of 'crowd' in evolutionary MAS for m...</td>\n",
       "      <td>This work introduces a new evolutionary approa...</td>\n",
       "      <td>[Computer Science]</td>\n",
       "    </tr>\n",
       "  </tbody>\n",
       "</table>\n",
       "</div>"
      ],
      "text/plain": [
       "                                               title  \\\n",
       "0  Quantum phase diagrams and time-of-flight pict...   \n",
       "1  IPCC (Intergovernmental Panel on Climate Chang...   \n",
       "2  Increasing CRISPR Efficiency and Measuring Its...   \n",
       "3  Therapeutic effect of taurine against aluminum...   \n",
       "4  Mechanism of 'crowd' in evolutionary MAS for m...   \n",
       "\n",
       "                                       paperAbstract        fieldsOfStudy  \n",
       "0  By treating the hopping parameter as a perturb...            [Physics]  \n",
       "1  The European Science Foundation (ESF) and the ...                   []  \n",
       "2  Genome editing of human cluster of differentia...  [Biology, Medicine]  \n",
       "3  The aim of the study was to demonstrate the th...           [Medicine]  \n",
       "4  This work introduces a new evolutionary approa...   [Computer Science]  "
      ]
     },
     "execution_count": 21,
     "metadata": {},
     "output_type": "execute_result"
    }
   ],
   "source": [
    "data.head()"
   ]
  },
  {
   "cell_type": "markdown",
   "metadata": {},
   "source": [
    "### Load GBIF data"
   ]
  },
  {
   "cell_type": "code",
   "execution_count": 22,
   "metadata": {},
   "outputs": [
    {
     "data": {
      "text/html": [
       "<div>\n",
       "<style scoped>\n",
       "    .dataframe tbody tr th:only-of-type {\n",
       "        vertical-align: middle;\n",
       "    }\n",
       "\n",
       "    .dataframe tbody tr th {\n",
       "        vertical-align: top;\n",
       "    }\n",
       "\n",
       "    .dataframe thead th {\n",
       "        text-align: right;\n",
       "    }\n",
       "</style>\n",
       "<table border=\"1\" class=\"dataframe\">\n",
       "  <thead>\n",
       "    <tr style=\"text-align: right;\">\n",
       "      <th></th>\n",
       "      <th>taxonID</th>\n",
       "      <th>parentNameUsageID</th>\n",
       "      <th>canonicalName</th>\n",
       "      <th>scientificName</th>\n",
       "      <th>taxonRank</th>\n",
       "      <th>family</th>\n",
       "      <th>genus</th>\n",
       "    </tr>\n",
       "  </thead>\n",
       "  <tbody>\n",
       "    <tr>\n",
       "      <th>0</th>\n",
       "      <td>1162096</td>\n",
       "      <td>1162079.0</td>\n",
       "      <td>Eopenthes deceptor</td>\n",
       "      <td>Eopenthes deceptor Sharp, 1908</td>\n",
       "      <td>species</td>\n",
       "      <td>Elateridae</td>\n",
       "      <td>Eopenthes</td>\n",
       "    </tr>\n",
       "    <tr>\n",
       "      <th>1</th>\n",
       "      <td>1162114</td>\n",
       "      <td>1162079.0</td>\n",
       "      <td>Eopenthes basalis</td>\n",
       "      <td>Eopenthes basalis Sharp, 1885</td>\n",
       "      <td>species</td>\n",
       "      <td>Elateridae</td>\n",
       "      <td>Eopenthes</td>\n",
       "    </tr>\n",
       "    <tr>\n",
       "      <th>2</th>\n",
       "      <td>1741665</td>\n",
       "      <td>1741585.0</td>\n",
       "      <td>Cochylis psychrasema</td>\n",
       "      <td>Cochylis psychrasema Meyrick, 1937</td>\n",
       "      <td>species</td>\n",
       "      <td>Tortricidae</td>\n",
       "      <td>Cochylis</td>\n",
       "    </tr>\n",
       "    <tr>\n",
       "      <th>3</th>\n",
       "      <td>1741670</td>\n",
       "      <td>1741585.0</td>\n",
       "      <td>Cochylis sagittigera</td>\n",
       "      <td>Cochylis sagittigera Razowski &amp; Becker, 1983</td>\n",
       "      <td>species</td>\n",
       "      <td>Tortricidae</td>\n",
       "      <td>Cochylis</td>\n",
       "    </tr>\n",
       "    <tr>\n",
       "      <th>4</th>\n",
       "      <td>1782495</td>\n",
       "      <td>1782493.0</td>\n",
       "      <td>Baputa dichroa</td>\n",
       "      <td>Baputa dichroa Kirsch, 1877</td>\n",
       "      <td>species</td>\n",
       "      <td>Noctuidae</td>\n",
       "      <td>Baputa</td>\n",
       "    </tr>\n",
       "  </tbody>\n",
       "</table>\n",
       "</div>"
      ],
      "text/plain": [
       "   taxonID  parentNameUsageID         canonicalName  \\\n",
       "0  1162096          1162079.0    Eopenthes deceptor   \n",
       "1  1162114          1162079.0     Eopenthes basalis   \n",
       "2  1741665          1741585.0  Cochylis psychrasema   \n",
       "3  1741670          1741585.0  Cochylis sagittigera   \n",
       "4  1782495          1782493.0        Baputa dichroa   \n",
       "\n",
       "                                 scientificName taxonRank       family  \\\n",
       "0                Eopenthes deceptor Sharp, 1908   species   Elateridae   \n",
       "1                 Eopenthes basalis Sharp, 1885   species   Elateridae   \n",
       "2            Cochylis psychrasema Meyrick, 1937   species  Tortricidae   \n",
       "3  Cochylis sagittigera Razowski & Becker, 1983   species  Tortricidae   \n",
       "4                   Baputa dichroa Kirsch, 1877   species    Noctuidae   \n",
       "\n",
       "       genus  \n",
       "0  Eopenthes  \n",
       "1  Eopenthes  \n",
       "2   Cochylis  \n",
       "3   Cochylis  \n",
       "4     Baputa  "
      ]
     },
     "execution_count": 22,
     "metadata": {},
     "output_type": "execute_result"
    }
   ],
   "source": [
    "gbif = pd.read_csv(\"/Users/chloesekkat/Documents/batch8_ceebios/data/simplified_taxon_gbif.csv\")\n",
    "gbif.head()"
   ]
  },
  {
   "cell_type": "markdown",
   "metadata": {},
   "source": [
    "Idealy we need to tag each article of interest with:\n",
    "\n",
    "- tag of the specie it talks about\n",
    "- tag of the genus\n",
    "- tag of the family"
   ]
  },
  {
   "cell_type": "code",
   "execution_count": 23,
   "metadata": {},
   "outputs": [
    {
     "data": {
      "text/html": [
       "<div>\n",
       "<style scoped>\n",
       "    .dataframe tbody tr th:only-of-type {\n",
       "        vertical-align: middle;\n",
       "    }\n",
       "\n",
       "    .dataframe tbody tr th {\n",
       "        vertical-align: top;\n",
       "    }\n",
       "\n",
       "    .dataframe thead th {\n",
       "        text-align: right;\n",
       "    }\n",
       "</style>\n",
       "<table border=\"1\" class=\"dataframe\">\n",
       "  <thead>\n",
       "    <tr style=\"text-align: right;\">\n",
       "      <th></th>\n",
       "      <th>Total</th>\n",
       "      <th>Percent</th>\n",
       "    </tr>\n",
       "  </thead>\n",
       "  <tbody>\n",
       "    <tr>\n",
       "      <th>taxonID</th>\n",
       "      <td>0</td>\n",
       "      <td>0.000000</td>\n",
       "    </tr>\n",
       "    <tr>\n",
       "      <th>parentNameUsageID</th>\n",
       "      <td>17</td>\n",
       "      <td>0.000258</td>\n",
       "    </tr>\n",
       "    <tr>\n",
       "      <th>canonicalName</th>\n",
       "      <td>640022</td>\n",
       "      <td>9.716995</td>\n",
       "    </tr>\n",
       "    <tr>\n",
       "      <th>scientificName</th>\n",
       "      <td>0</td>\n",
       "      <td>0.000000</td>\n",
       "    </tr>\n",
       "    <tr>\n",
       "      <th>taxonRank</th>\n",
       "      <td>0</td>\n",
       "      <td>0.000000</td>\n",
       "    </tr>\n",
       "    <tr>\n",
       "      <th>family</th>\n",
       "      <td>327389</td>\n",
       "      <td>4.970512</td>\n",
       "    </tr>\n",
       "    <tr>\n",
       "      <th>genus</th>\n",
       "      <td>339089</td>\n",
       "      <td>5.148145</td>\n",
       "    </tr>\n",
       "  </tbody>\n",
       "</table>\n",
       "</div>"
      ],
      "text/plain": [
       "                    Total   Percent\n",
       "taxonID                 0  0.000000\n",
       "parentNameUsageID      17  0.000258\n",
       "canonicalName      640022  9.716995\n",
       "scientificName          0  0.000000\n",
       "taxonRank               0  0.000000\n",
       "family             327389  4.970512\n",
       "genus              339089  5.148145"
      ]
     },
     "execution_count": 23,
     "metadata": {},
     "output_type": "execute_result"
    }
   ],
   "source": [
    "missing_data(gbif)"
   ]
  },
  {
   "cell_type": "code",
   "execution_count": 24,
   "metadata": {},
   "outputs": [],
   "source": [
    "gbif = gbif.dropna()"
   ]
  },
  {
   "cell_type": "code",
   "execution_count": 25,
   "metadata": {},
   "outputs": [],
   "source": [
    "all_species = gbif[\"canonicalName\"].unique().tolist()\n",
    "all_family = gbif[\"family\"].unique().tolist()\n",
    "all_genus = gbif[\"genus\"].unique().tolist()"
   ]
  },
  {
   "cell_type": "code",
   "execution_count": 26,
   "metadata": {},
   "outputs": [
    {
     "data": {
      "text/plain": [
       "5285518"
      ]
     },
     "execution_count": 26,
     "metadata": {},
     "output_type": "execute_result"
    }
   ],
   "source": [
    "all_names = set(all_species + all_family + all_genus)\n",
    "len(all_names)"
   ]
  },
  {
   "cell_type": "code",
   "execution_count": 27,
   "metadata": {},
   "outputs": [
    {
     "data": {
      "text/plain": [
       "(5710818, 7)"
      ]
     },
     "execution_count": 27,
     "metadata": {},
     "output_type": "execute_result"
    }
   ],
   "source": [
    "gbif.shape"
   ]
  },
  {
   "cell_type": "markdown",
   "metadata": {},
   "source": [
    "### Load Keyword processor"
   ]
  },
  {
   "cell_type": "code",
   "execution_count": 28,
   "metadata": {},
   "outputs": [],
   "source": [
    "# prend un certain temps\n",
    "\n",
    "from flashtext import KeywordProcessor\n",
    "\n",
    "keyword_processor = KeywordProcessor()\n",
    "\n",
    "for name in all_names:\n",
    "    keyword_processor.add_keyword(name)"
   ]
  },
  {
   "cell_type": "code",
   "execution_count": 29,
   "metadata": {},
   "outputs": [],
   "source": [
    "text = \"Distribution and movement patterns of Antarctic blue whales Balaenoptera musculus intermedia at large temporal and spatial scales are still poorly understood. The objective of this study was to explore spatio-temporal distribution patterns of Antarctic blue whales in the Atlantic sector of the Southern Ocean,using passive acoustic monitoring data. Multi-year data were collected between 2008 and 2013 by 11 recorders deployed in the Weddell Sea and along the Greenwich meridian. Antarctic blue whale Z-calls were detected via spectrogram cross-correlation. A Blue Whale Index was developed to quantify the proportion of time during which acoustic energy from Antarctic blue whales dominatedover background noise. Our results show that Antarctic blue whales were acoustically present year-round, with most call detections between January and April.During austral summer, the number of detected calls peaked synchronously throughout the study area in mostyears, and hence, no directed meridional movement pattern was detectable. During austral winter,vocalizations were recorded at latitudes as high as 69°S, with sea ice cover exceeding 90%,suggesting that some Antarctic blue whales overwinterin Antarctic waters. Polynyas likely serve as an important habitat for baleen whales duringaustral winter, providing food and reliable access to open water for breathing. Overall, our results support increasing evidence of a complex and non-obligatory migratory behavior of Antarctic blue whales,potentially involving temporally and spatially dynamic migration routes and destinations, as well as variable timing of migration to and from the feeding grounds.\""
   ]
  },
  {
   "cell_type": "code",
   "execution_count": 30,
   "metadata": {},
   "outputs": [
    {
     "data": {
      "text/plain": [
       "['Balaenoptera musculus intermedia',\n",
       " 'Scales',\n",
       " 'Are',\n",
       " 'This',\n",
       " 'Data',\n",
       " 'Data',\n",
       " 'Sea',\n",
       " 'Via',\n",
       " 'Area',\n",
       " 'As',\n",
       " 'As',\n",
       " 'Sea',\n",
       " 'As',\n",
       " 'As',\n",
       " 'As']"
      ]
     },
     "execution_count": 30,
     "metadata": {},
     "output_type": "execute_result"
    }
   ],
   "source": [
    "keyword_processor.extract_keywords(text)"
   ]
  },
  {
   "cell_type": "code",
   "execution_count": 31,
   "metadata": {},
   "outputs": [
    {
     "data": {
      "text/html": [
       "<div>\n",
       "<style scoped>\n",
       "    .dataframe tbody tr th:only-of-type {\n",
       "        vertical-align: middle;\n",
       "    }\n",
       "\n",
       "    .dataframe tbody tr th {\n",
       "        vertical-align: top;\n",
       "    }\n",
       "\n",
       "    .dataframe thead th {\n",
       "        text-align: right;\n",
       "    }\n",
       "</style>\n",
       "<table border=\"1\" class=\"dataframe\">\n",
       "  <thead>\n",
       "    <tr style=\"text-align: right;\">\n",
       "      <th></th>\n",
       "      <th>taxonID</th>\n",
       "      <th>parentNameUsageID</th>\n",
       "      <th>canonicalName</th>\n",
       "      <th>scientificName</th>\n",
       "      <th>taxonRank</th>\n",
       "      <th>family</th>\n",
       "      <th>genus</th>\n",
       "    </tr>\n",
       "  </thead>\n",
       "  <tbody>\n",
       "    <tr>\n",
       "      <th>3013958</th>\n",
       "      <td>1892931</td>\n",
       "      <td>7017.0</td>\n",
       "      <td>Sea</td>\n",
       "      <td>Sea Hayward, 1950</td>\n",
       "      <td>genus</td>\n",
       "      <td>Nymphalidae</td>\n",
       "      <td>Sea</td>\n",
       "    </tr>\n",
       "  </tbody>\n",
       "</table>\n",
       "</div>"
      ],
      "text/plain": [
       "         taxonID  parentNameUsageID canonicalName     scientificName  \\\n",
       "3013958  1892931             7017.0           Sea  Sea Hayward, 1950   \n",
       "\n",
       "        taxonRank       family genus  \n",
       "3013958     genus  Nymphalidae   Sea  "
      ]
     },
     "execution_count": 31,
     "metadata": {},
     "output_type": "execute_result"
    }
   ],
   "source": [
    "where = gbif[\"canonicalName\"] == \"Sea\"\n",
    "gbif[where]"
   ]
  },
  {
   "cell_type": "markdown",
   "metadata": {},
   "source": [
    "All these words \"As\", \"Are\", \"Data\", \"This\" seem to be actual canonical names. We will get many false positive when finding matches, we will have to add another filter on the articles.\n",
    "\n",
    "First we will remove all stopwords in title and abstract."
   ]
  },
  {
   "cell_type": "code",
   "execution_count": 32,
   "metadata": {},
   "outputs": [],
   "source": [
    "stop_words = set(stopwords.words('english'))\n",
    "\n",
    "own_list = set([\n",
    "    \"age\",\n",
    "    \"sea\",\n",
    "    \"data\",\n",
    "    \"idea\",\n",
    "    \"may\",\n",
    "])\n",
    "\n",
    "list_stopwords = stop_words | own_list\n",
    "\n",
    "def remove_stopwords_from_title_abstract(data: pd.DataFrame, list_stopwords: Set) -> pd.DataFrame:\n",
    "    \"\"\"\n",
    "    Remove all stopwords from title and abstract in order to prevent many false positive.\n",
    "    \"\"\"\n",
    "    data = data.reset_index(drop=True)\n",
    "    data[\"full\"] = data[\"title\"] + \" \" + data[\"paperAbstract\"]\n",
    "    data[\"full\"] = data[\"full\"].str.lower()\n",
    "    data[\"full\"] = data[\"full\"].map(lambda x: word_tokenize(x))\n",
    "    data[\"full\"] = data[\"full\"].map(lambda sentence: \" \".join([word for word in sentence if not word in list_stopwords]))\n",
    "    return data"
   ]
  },
  {
   "cell_type": "code",
   "execution_count": 33,
   "metadata": {},
   "outputs": [],
   "source": [
    "data = remove_stopwords_from_title_abstract(data, list_stopwords)"
   ]
  },
  {
   "cell_type": "code",
   "execution_count": 34,
   "metadata": {},
   "outputs": [],
   "source": [
    "# par sécurité notamment à cause des mots composés comme as-grown\n",
    "keyword_processor.remove_keywords_from_list(list(list_stopwords))"
   ]
  },
  {
   "cell_type": "markdown",
   "metadata": {},
   "source": [
    "### Find keywords on all dataframe"
   ]
  },
  {
   "cell_type": "code",
   "execution_count": 37,
   "metadata": {},
   "outputs": [],
   "source": [
    "def keep_articles_with_species(data: pd.DataFrame, keyword_processor: KeywordProcessor) -> pd.DataFrame:\n",
    "    \"\"\"\n",
    "    Keep only articles for which we find a match and add a keyword column.\n",
    "    Keywords are searched in paper title and paper abstract.\n",
    "    The matched keywords need to be previously set in `keyword_processor`.\n",
    "    \"\"\"\n",
    "    data[\"keyword\"] = data[\"full\"].map(lambda x: keyword_processor.extract_keywords(x))\n",
    "    where = data[\"keyword\"].astype(str) == \"[]\"\n",
    "    data = data[~where]\n",
    "    data = data.drop([\"full\"], axis=1)\n",
    "    data = data.reset_index(drop=True)\n",
    "    return data"
   ]
  },
  {
   "cell_type": "code",
   "execution_count": 38,
   "metadata": {
    "scrolled": true
   },
   "outputs": [],
   "source": [
    "data = keep_articles_with_species(data, keyword_processor)"
   ]
  },
  {
   "cell_type": "code",
   "execution_count": 39,
   "metadata": {},
   "outputs": [
    {
     "data": {
      "text/html": [
       "<div>\n",
       "<style scoped>\n",
       "    .dataframe tbody tr th:only-of-type {\n",
       "        vertical-align: middle;\n",
       "    }\n",
       "\n",
       "    .dataframe tbody tr th {\n",
       "        vertical-align: top;\n",
       "    }\n",
       "\n",
       "    .dataframe thead th {\n",
       "        text-align: right;\n",
       "    }\n",
       "</style>\n",
       "<table border=\"1\" class=\"dataframe\">\n",
       "  <thead>\n",
       "    <tr style=\"text-align: right;\">\n",
       "      <th></th>\n",
       "      <th>title</th>\n",
       "      <th>paperAbstract</th>\n",
       "      <th>fieldsOfStudy</th>\n",
       "      <th>keyword</th>\n",
       "    </tr>\n",
       "  </thead>\n",
       "  <tbody>\n",
       "    <tr>\n",
       "      <th>0</th>\n",
       "      <td>Quantum phase diagrams and time-of-flight pict...</td>\n",
       "      <td>By treating the hopping parameter as a perturb...</td>\n",
       "      <td>[Physics]</td>\n",
       "      <td>[Via, Momentum]</td>\n",
       "    </tr>\n",
       "    <tr>\n",
       "      <th>1</th>\n",
       "      <td>IPCC (Intergovernmental Panel on Climate Chang...</td>\n",
       "      <td>The European Science Foundation (ESF) and the ...</td>\n",
       "      <td>[]</td>\n",
       "      <td>[Panel, Des, Aix, Thoron, Aix]</td>\n",
       "    </tr>\n",
       "    <tr>\n",
       "      <th>2</th>\n",
       "      <td>Increasing CRISPR Efficiency and Measuring Its...</td>\n",
       "      <td>Genome editing of human cluster of differentia...</td>\n",
       "      <td>[Biology, Medicine]</td>\n",
       "      <td>[Bona]</td>\n",
       "    </tr>\n",
       "    <tr>\n",
       "      <th>3</th>\n",
       "      <td>Therapeutic effect of taurine against aluminum...</td>\n",
       "      <td>The aim of the study was to demonstrate the th...</td>\n",
       "      <td>[Medicine]</td>\n",
       "      <td>[Gaba]</td>\n",
       "    </tr>\n",
       "    <tr>\n",
       "      <th>4</th>\n",
       "      <td>Conformationally restricted TRH analogs: a pro...</td>\n",
       "      <td>In principle, the development of the active an...</td>\n",
       "      <td>[Chemistry, Medicine]</td>\n",
       "      <td>[Area]</td>\n",
       "    </tr>\n",
       "    <tr>\n",
       "      <th>...</th>\n",
       "      <td>...</td>\n",
       "      <td>...</td>\n",
       "      <td>...</td>\n",
       "      <td>...</td>\n",
       "    </tr>\n",
       "    <tr>\n",
       "      <th>8382</th>\n",
       "      <td>Dissecting the Core Fear in Anorexia Nervosa: ...</td>\n",
       "      <td>Anorexia nervosa (AN) is uniquely placed in th...</td>\n",
       "      <td>[Medicine, Psychology]</td>\n",
       "      <td>[Spectrum, Via]</td>\n",
       "    </tr>\n",
       "    <tr>\n",
       "      <th>8383</th>\n",
       "      <td>[Blood lipids in 11- to 14-year-old schoolchil...</td>\n",
       "      <td>As a part of the cooperative programme \"Epidem...</td>\n",
       "      <td>[Medicine]</td>\n",
       "      <td>[Alpha]</td>\n",
       "    </tr>\n",
       "    <tr>\n",
       "      <th>8384</th>\n",
       "      <td>Effect of Inhalation of Essential Oil of Rosa ...</td>\n",
       "      <td>Some studies document that odorants influence ...</td>\n",
       "      <td>[Medicine]</td>\n",
       "      <td>[Rosa, Rosa damascena]</td>\n",
       "    </tr>\n",
       "    <tr>\n",
       "      <th>8385</th>\n",
       "      <td>Supercritical Carbon Dioxide Extraction of Squ...</td>\n",
       "      <td>Separation of squalene from Amaranthus panicul...</td>\n",
       "      <td>[Chemistry]</td>\n",
       "      <td>[Amaranthus paniculatus, Amaranthus paniculatus]</td>\n",
       "    </tr>\n",
       "    <tr>\n",
       "      <th>8386</th>\n",
       "      <td>Antimicrobial activity of water and acetone ex...</td>\n",
       "      <td>OBJECTIVE\\nTo evaluate the antibacterial and a...</td>\n",
       "      <td>[Biology, Medicine]</td>\n",
       "      <td>[Eucomis, Eucomis, Eucomis bicolor, Eucomis co...</td>\n",
       "    </tr>\n",
       "  </tbody>\n",
       "</table>\n",
       "<p>8387 rows × 4 columns</p>\n",
       "</div>"
      ],
      "text/plain": [
       "                                                  title  \\\n",
       "0     Quantum phase diagrams and time-of-flight pict...   \n",
       "1     IPCC (Intergovernmental Panel on Climate Chang...   \n",
       "2     Increasing CRISPR Efficiency and Measuring Its...   \n",
       "3     Therapeutic effect of taurine against aluminum...   \n",
       "4     Conformationally restricted TRH analogs: a pro...   \n",
       "...                                                 ...   \n",
       "8382  Dissecting the Core Fear in Anorexia Nervosa: ...   \n",
       "8383  [Blood lipids in 11- to 14-year-old schoolchil...   \n",
       "8384  Effect of Inhalation of Essential Oil of Rosa ...   \n",
       "8385  Supercritical Carbon Dioxide Extraction of Squ...   \n",
       "8386  Antimicrobial activity of water and acetone ex...   \n",
       "\n",
       "                                          paperAbstract  \\\n",
       "0     By treating the hopping parameter as a perturb...   \n",
       "1     The European Science Foundation (ESF) and the ...   \n",
       "2     Genome editing of human cluster of differentia...   \n",
       "3     The aim of the study was to demonstrate the th...   \n",
       "4     In principle, the development of the active an...   \n",
       "...                                                 ...   \n",
       "8382  Anorexia nervosa (AN) is uniquely placed in th...   \n",
       "8383  As a part of the cooperative programme \"Epidem...   \n",
       "8384  Some studies document that odorants influence ...   \n",
       "8385  Separation of squalene from Amaranthus panicul...   \n",
       "8386  OBJECTIVE\\nTo evaluate the antibacterial and a...   \n",
       "\n",
       "               fieldsOfStudy  \\\n",
       "0                  [Physics]   \n",
       "1                         []   \n",
       "2        [Biology, Medicine]   \n",
       "3                 [Medicine]   \n",
       "4      [Chemistry, Medicine]   \n",
       "...                      ...   \n",
       "8382  [Medicine, Psychology]   \n",
       "8383              [Medicine]   \n",
       "8384              [Medicine]   \n",
       "8385             [Chemistry]   \n",
       "8386     [Biology, Medicine]   \n",
       "\n",
       "                                                keyword  \n",
       "0                                       [Via, Momentum]  \n",
       "1                        [Panel, Des, Aix, Thoron, Aix]  \n",
       "2                                                [Bona]  \n",
       "3                                                [Gaba]  \n",
       "4                                                [Area]  \n",
       "...                                                 ...  \n",
       "8382                                    [Spectrum, Via]  \n",
       "8383                                            [Alpha]  \n",
       "8384                             [Rosa, Rosa damascena]  \n",
       "8385   [Amaranthus paniculatus, Amaranthus paniculatus]  \n",
       "8386  [Eucomis, Eucomis, Eucomis bicolor, Eucomis co...  \n",
       "\n",
       "[8387 rows x 4 columns]"
      ]
     },
     "execution_count": 39,
     "metadata": {},
     "output_type": "execute_result"
    }
   ],
   "source": [
    "data"
   ]
  },
  {
   "cell_type": "code",
   "execution_count": 40,
   "metadata": {},
   "outputs": [
    {
     "data": {
      "text/plain": [
       "(8387, 4)"
      ]
     },
     "execution_count": 40,
     "metadata": {},
     "output_type": "execute_result"
    }
   ],
   "source": [
    "data.shape"
   ]
  },
  {
   "cell_type": "code",
   "execution_count": null,
   "metadata": {},
   "outputs": [],
   "source": []
  }
 ],
 "metadata": {
  "kernelspec": {
   "display_name": "Python 3",
   "language": "python",
   "name": "python3"
  },
  "language_info": {
   "codemirror_mode": {
    "name": "ipython",
    "version": 3
   },
   "file_extension": ".py",
   "mimetype": "text/x-python",
   "name": "python",
   "nbconvert_exporter": "python",
   "pygments_lexer": "ipython3",
   "version": "3.8.6"
  }
 },
 "nbformat": 4,
 "nbformat_minor": 4
}
