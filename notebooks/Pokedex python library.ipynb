{
 "cells": [
  {
   "cell_type": "markdown",
   "metadata": {},
   "source": [
    "![](https://ceebios.com/wp-content/uploads/2017/06/ceebios-logo-06-167x92.png)"
   ]
  },
  {
   "cell_type": "markdown",
   "metadata": {},
   "source": [
    "# Ceebios Pokedex Python library"
   ]
  },
  {
   "cell_type": "markdown",
   "metadata": {
    "ExecuteTime": {
     "end_time": "2020-10-12T09:23:04.576267Z",
     "start_time": "2020-10-12T09:23:04.315084Z"
    }
   },
   "source": [
    "Several wrappers have been defined to easily access in Python to the following APIs (GBIF, Google Scholar, CoreAC, Wikipedia). Many functionalities have been wrapped to connect these sources altogether. \n",
    "\n",
    "The result is the library ``pokedex`` (preliminary name) that could be published afterwards in open source to ease bio-mimicry research for Data Scientists and engineers. \n",
    "\n",
    "This notebook will serve as the base for the documentation (we will create a proper documentation further on)"
   ]
  },
  {
   "cell_type": "code",
   "execution_count": 35,
   "metadata": {
    "ExecuteTime": {
     "end_time": "2020-10-12T09:24:54.470154Z",
     "start_time": "2020-10-12T09:24:54.192681Z"
    }
   },
   "outputs": [
    {
     "name": "stdout",
     "output_type": "stream",
     "text": [
      "The autoreload extension is already loaded. To reload it, use:\n",
      "  %reload_ext autoreload\n"
     ]
    }
   ],
   "source": [
    "# Base Data Science snippet\n",
    "import pandas as pd\n",
    "import numpy as np\n",
    "import matplotlib.pyplot as plt\n",
    "import os\n",
    "import time\n",
    "from tqdm import tqdm_notebook\n",
    "\n",
    "pd.options.display.max_columns = 500\n",
    "\n",
    "# Add the following autoreload magics to automatically reload library in the development\n",
    "%matplotlib inline\n",
    "%load_ext autoreload\n",
    "%autoreload 2"
   ]
  },
  {
   "cell_type": "markdown",
   "metadata": {},
   "source": [
    "##### Import custom library"
   ]
  },
  {
   "cell_type": "code",
   "execution_count": 37,
   "metadata": {
    "ExecuteTime": {
     "end_time": "2020-10-12T09:25:57.817830Z",
     "start_time": "2020-10-12T09:25:57.567863Z"
    }
   },
   "outputs": [],
   "source": [
    "# Add local path to search for the development library locally\n",
    "import sys\n",
    "sys.path.append(\"../\")\n",
    "\n",
    "# Import custom modules\n",
    "from pokedex.data import GBIFExtractor\n",
    "from pokedex.data import GoogleScholarExtractor\n",
    "from pokedex.data import CoreACExtractor\n",
    "from pokedex.data import WikipediaExtractor"
   ]
  },
  {
   "cell_type": "markdown",
   "metadata": {},
   "source": [
    "# Quickstart in 5 minutes"
   ]
  },
  {
   "cell_type": "markdown",
   "metadata": {},
   "source": [
    "The goal of the library is typical in bio-mimicry research: **starts from a species and get scientific publications about this species** "
   ]
  },
  {
   "cell_type": "markdown",
   "metadata": {},
   "source": [
    "## Use case 1 : you know the latin name of the species"
   ]
  },
  {
   "cell_type": "markdown",
   "metadata": {},
   "source": [
    "Let's say you are an expert and you already know a species is particularly interesting. <br>\n",
    "You want to know everything and in particular get scientific publications. One common entry point is to **use the GBIF API** to get the minimum information needed to categorize a species"
   ]
  },
  {
   "cell_type": "code",
   "execution_count": 38,
   "metadata": {
    "ExecuteTime": {
     "end_time": "2020-10-12T09:32:22.145567Z",
     "start_time": "2020-10-12T09:32:21.899383Z"
    }
   },
   "outputs": [],
   "source": [
    "gbif = GBIFExtractor()"
   ]
  },
  {
   "cell_type": "markdown",
   "metadata": {},
   "source": [
    "We will focus on the **vespa ducalis**, an interesting hornet. As we know the latin name (taxon) we will match directly with the GBIF database. "
   ]
  },
  {
   "cell_type": "code",
   "execution_count": 39,
   "metadata": {
    "ExecuteTime": {
     "end_time": "2020-10-12T09:33:39.543579Z",
     "start_time": "2020-10-12T09:33:38.901088Z"
    }
   },
   "outputs": [
    {
     "data": {
      "text/plain": [
       "Species(name=Vespa ducalis)"
      ]
     },
     "execution_count": 39,
     "metadata": {},
     "output_type": "execute_result"
    }
   ],
   "source": [
    "vespa = gbif.match(\"vespa ducalis\")\n",
    "vespa"
   ]
  },
  {
   "cell_type": "markdown",
   "metadata": {},
   "source": [
    "The resulting object in Python is a custom object that will help us connect the different data sources and wrap many core functionalities of the library. "
   ]
  },
  {
   "cell_type": "code",
   "execution_count": 40,
   "metadata": {
    "ExecuteTime": {
     "end_time": "2020-10-12T09:34:33.062130Z",
     "start_time": "2020-10-12T09:34:32.760131Z"
    }
   },
   "outputs": [
    {
     "data": {
      "text/plain": [
       "{'kingdom': 'Animalia',\n",
       " 'phylum': 'Arthropoda',\n",
       " 'order': 'Hymenoptera',\n",
       " 'genus': 'Vespa',\n",
       " 'species': 'Vespa ducalis'}"
      ]
     },
     "execution_count": 40,
     "metadata": {},
     "output_type": "execute_result"
    }
   ],
   "source": [
    "vespa.info"
   ]
  },
  {
   "cell_type": "markdown",
   "metadata": {},
   "source": [
    "### Searching on wikipedia"
   ]
  },
  {
   "cell_type": "markdown",
   "metadata": {
    "ExecuteTime": {
     "end_time": "2020-10-12T09:34:57.152465Z",
     "start_time": "2020-10-12T09:34:56.872139Z"
    }
   },
   "source": [
    "You can search wikipedia easily to learn more about this species"
   ]
  },
  {
   "cell_type": "code",
   "execution_count": 46,
   "metadata": {
    "ExecuteTime": {
     "end_time": "2020-10-12T09:37:56.100331Z",
     "start_time": "2020-10-12T09:37:55.850837Z"
    }
   },
   "outputs": [
    {
     "name": "stdout",
     "output_type": "stream",
     "text": [
      "Vespa ducalis est un frelon.\n",
      "\n",
      "\n",
      "== Description ==\n",
      "La tête est jaune et porte des ocelles brunes. Le thorax est principalement noir. L'abdomen est plus coloré : les deux premiers segments sont bruns et jaunes avec de fines bandes noires. Les autres segments sont noirs. Il peut y avoir quelques fines bandes jaunes entre le troisième et le quatrième segment. Une ouvrière mesure entre 23 et 32 mm tandis qu'une reine 37 mm.  \n",
      "\n",
      "\n",
      "== Répartition ==\n",
      "Ce frelon est présent en Asie, de l'Inde au Japon et jus ...\n"
     ]
    }
   ],
   "source": [
    "print(vespa.get_wikipedia_description()[:500] + \" ...\")"
   ]
  },
  {
   "cell_type": "markdown",
   "metadata": {},
   "source": [
    "You can also get other data like the image thumbnail"
   ]
  },
  {
   "cell_type": "code",
   "execution_count": 44,
   "metadata": {
    "ExecuteTime": {
     "end_time": "2020-10-12T09:36:13.906430Z",
     "start_time": "2020-10-12T09:36:12.344876Z"
    }
   },
   "outputs": [
    {
     "data": {
      "image/png": "[encoded data removed]",
      "text/plain": [
       "<PIL.JpegImagePlugin.JpegImageFile image mode=RGB size=290x218 at 0x28B2DFAC888>"
      ]
     },
     "execution_count": 44,
     "metadata": {},
     "output_type": "execute_result"
    }
   ],
   "source": [
    "vespa.get_wikipedia_image(as_img = True)"
   ]
  },
  {
   "cell_type": "markdown",
   "metadata": {
    "ExecuteTime": {
     "end_time": "2020-10-11T14:12:05.935530Z",
     "start_time": "2020-10-11T14:12:05.560532Z"
    }
   },
   "source": [
    "Or directly open the wikipedia page from python"
   ]
  },
  {
   "cell_type": "code",
   "execution_count": 192,
   "metadata": {
    "ExecuteTime": {
     "end_time": "2020-10-10T15:35:51.086760Z",
     "start_time": "2020-10-10T15:35:50.923112Z"
    }
   },
   "outputs": [],
   "source": [
    "vespa.open_wikipedia()"
   ]
  },
  {
   "cell_type": "markdown",
   "metadata": {},
   "source": [
    "##### Other features available\n",
    "> Changing search language, get other images, get hyperlinks"
   ]
  },
  {
   "cell_type": "markdown",
   "metadata": {},
   "source": [
    "### Searching for scientific publications"
   ]
  },
  {
   "cell_type": "markdown",
   "metadata": {},
   "source": [
    "You can directly search for publications from Google Scholar or CoreAC APIs. "
   ]
  },
  {
   "cell_type": "code",
   "execution_count": 48,
   "metadata": {
    "ExecuteTime": {
     "end_time": "2020-10-12T09:39:13.860667Z",
     "start_time": "2020-10-12T09:39:11.677095Z"
    }
   },
   "outputs": [
    {
     "data": {
      "text/html": [
       "<div>\n",
       "<style scoped>\n",
       "    .dataframe tbody tr th:only-of-type {\n",
       "        vertical-align: middle;\n",
       "    }\n",
       "\n",
       "    .dataframe tbody tr th {\n",
       "        vertical-align: top;\n",
       "    }\n",
       "\n",
       "    .dataframe thead th {\n",
       "        text-align: right;\n",
       "    }\n",
       "</style>\n",
       "<table border=\"1\" class=\"dataframe\">\n",
       "  <thead>\n",
       "    <tr style=\"text-align: right;\">\n",
       "      <th></th>\n",
       "      <th>title</th>\n",
       "      <th>abstract</th>\n",
       "      <th>author</th>\n",
       "      <th>url</th>\n",
       "      <th>doi</th>\n",
       "      <th>journal</th>\n",
       "      <th>cites</th>\n",
       "      <th>year</th>\n",
       "    </tr>\n",
       "  </thead>\n",
       "  <tbody>\n",
       "    <tr>\n",
       "      <th>0</th>\n",
       "      <td>Queen mating frequencies and genetic relatedne...</td>\n",
       "      <td>Vespa ducalis is a monogynous hornet with an a...</td>\n",
       "      <td>[J Takahashi, S Akimoto, E Hasegawa]</td>\n",
       "      <td>https://www.jstage.jst.go.jp/article/aez/37/3/...</td>\n",
       "      <td>None</td>\n",
       "      <td>None</td>\n",
       "      <td>17</td>\n",
       "      <td>2002</td>\n",
       "    </tr>\n",
       "    <tr>\n",
       "      <th>1</th>\n",
       "      <td>Complete mitochondrial genome of the black‐tai...</td>\n",
       "      <td>We sequenced the complete mitochondrial genome...</td>\n",
       "      <td>[JS Kim, JS Jeong, SY Jeong, MJ Kim]</td>\n",
       "      <td>https://onlinelibrary.wiley.com/doi/abs/10.111...</td>\n",
       "      <td>None</td>\n",
       "      <td>None</td>\n",
       "      <td>7</td>\n",
       "      <td>2017</td>\n",
       "    </tr>\n",
       "    <tr>\n",
       "      <th>2</th>\n",
       "      <td>A novel peptide from vespa ducalis induces apo...</td>\n",
       "      <td>Osteosarcoma (OS) is a typical bone cancer, an...</td>\n",
       "      <td>[R Wu, D Li, Q Tang, W Wang, G Xie]</td>\n",
       "      <td>https://www.jstage.jst.go.jp/article/bpb/41/4/...</td>\n",
       "      <td>None</td>\n",
       "      <td>None</td>\n",
       "      <td>6</td>\n",
       "      <td>2018</td>\n",
       "    </tr>\n",
       "    <tr>\n",
       "      <th>3</th>\n",
       "      <td>Occurrence of Vespa velutina Lepeletier from K...</td>\n",
       "      <td>6. 4 Apical teeth of clypeus triangular in sha...</td>\n",
       "      <td>[JK KIM, MB Choi, TY MOON]</td>\n",
       "      <td>https://onlinelibrary.wiley.com/doi/abs/10.111...</td>\n",
       "      <td>None</td>\n",
       "      <td>None</td>\n",
       "      <td>59</td>\n",
       "      <td>2006</td>\n",
       "    </tr>\n",
       "    <tr>\n",
       "      <th>4</th>\n",
       "      <td>Microsatellite loci for genetic research in th...</td>\n",
       "      <td>Number of alleles (N A ), expected heterozygos...</td>\n",
       "      <td>[E Hasegawa, J Takahashi]</td>\n",
       "      <td>https://onlinelibrary.wiley.com/doi/abs/10.104...</td>\n",
       "      <td>None</td>\n",
       "      <td>None</td>\n",
       "      <td>33</td>\n",
       "      <td>2002</td>\n",
       "    </tr>\n",
       "    <tr>\n",
       "      <th>5</th>\n",
       "      <td>A PRELIMINARY STUDY ON THE BIOLOGY OF WASPS VE...</td>\n",
       "      <td>The present paper deals with the biology of wa...</td>\n",
       "      <td>[DDW Yunzhcn]</td>\n",
       "      <td>http://en.cnki.com.cn/Article_en/CJFDTotal-DWX...</td>\n",
       "      <td>None</td>\n",
       "      <td>None</td>\n",
       "      <td>3</td>\n",
       "      <td>1989</td>\n",
       "    </tr>\n",
       "    <tr>\n",
       "      <th>6</th>\n",
       "      <td>Hornet silk proteins in the cocoons produced b...</td>\n",
       "      <td>Vespa simillima, Vespa dybowskii, Vespa crabro...</td>\n",
       "      <td>[T Kameda, K Kojima, Q Zhang, H Sezutsu]</td>\n",
       "      <td>https://www.sciencedirect.com/science/article/...</td>\n",
       "      <td>None</td>\n",
       "      <td>None</td>\n",
       "      <td>16</td>\n",
       "      <td>2008</td>\n",
       "    </tr>\n",
       "    <tr>\n",
       "      <th>7</th>\n",
       "      <td>Systematics of vespine wasps from Korea-(1)-Ge...</td>\n",
       "      <td>carima present; Vertex emarginated moderately ...</td>\n",
       "      <td>[JK Kim, IB Yoon, TY Moon]</td>\n",
       "      <td>http://www.academia.edu/download/31978647/kim_...</td>\n",
       "      <td>None</td>\n",
       "      <td>None</td>\n",
       "      <td>15</td>\n",
       "      <td>1994</td>\n",
       "    </tr>\n",
       "    <tr>\n",
       "      <th>8</th>\n",
       "      <td>Taxonomy and bionomics of the Vespa tropica gr...</td>\n",
       "      <td>Thus V. ducali^t would seem to consist of two ...</td>\n",
       "      <td>[ME Archer]</td>\n",
       "      <td>https://www.academia.edu/download/31784676/arc...</td>\n",
       "      <td>None</td>\n",
       "      <td>None</td>\n",
       "      <td>16</td>\n",
       "      <td>1991</td>\n",
       "    </tr>\n",
       "    <tr>\n",
       "      <th>9</th>\n",
       "      <td>The common Oriental hornets, Vespa tropica and...</td>\n",
       "      <td>There are also accounts of aerial nests referr...</td>\n",
       "      <td>[J Bequaert]</td>\n",
       "      <td>http://www.academia.edu/download/48262467/Bequ...</td>\n",
       "      <td>None</td>\n",
       "      <td>None</td>\n",
       "      <td>28</td>\n",
       "      <td>1936</td>\n",
       "    </tr>\n",
       "  </tbody>\n",
       "</table>\n",
       "</div>"
      ],
      "text/plain": [
       "                                               title  \\\n",
       "0  Queen mating frequencies and genetic relatedne...   \n",
       "1  Complete mitochondrial genome of the black‐tai...   \n",
       "2  A novel peptide from vespa ducalis induces apo...   \n",
       "3  Occurrence of Vespa velutina Lepeletier from K...   \n",
       "4  Microsatellite loci for genetic research in th...   \n",
       "5  A PRELIMINARY STUDY ON THE BIOLOGY OF WASPS VE...   \n",
       "6  Hornet silk proteins in the cocoons produced b...   \n",
       "7  Systematics of vespine wasps from Korea-(1)-Ge...   \n",
       "8  Taxonomy and bionomics of the Vespa tropica gr...   \n",
       "9  The common Oriental hornets, Vespa tropica and...   \n",
       "\n",
       "                                            abstract  \\\n",
       "0  Vespa ducalis is a monogynous hornet with an a...   \n",
       "1  We sequenced the complete mitochondrial genome...   \n",
       "2  Osteosarcoma (OS) is a typical bone cancer, an...   \n",
       "3  6. 4 Apical teeth of clypeus triangular in sha...   \n",
       "4  Number of alleles (N A ), expected heterozygos...   \n",
       "5  The present paper deals with the biology of wa...   \n",
       "6  Vespa simillima, Vespa dybowskii, Vespa crabro...   \n",
       "7  carima present; Vertex emarginated moderately ...   \n",
       "8  Thus V. ducali^t would seem to consist of two ...   \n",
       "9  There are also accounts of aerial nests referr...   \n",
       "\n",
       "                                     author  \\\n",
       "0      [J Takahashi, S Akimoto, E Hasegawa]   \n",
       "1      [JS Kim, JS Jeong, SY Jeong, MJ Kim]   \n",
       "2       [R Wu, D Li, Q Tang, W Wang, G Xie]   \n",
       "3                [JK KIM, MB Choi, TY MOON]   \n",
       "4                 [E Hasegawa, J Takahashi]   \n",
       "5                             [DDW Yunzhcn]   \n",
       "6  [T Kameda, K Kojima, Q Zhang, H Sezutsu]   \n",
       "7                [JK Kim, IB Yoon, TY Moon]   \n",
       "8                               [ME Archer]   \n",
       "9                              [J Bequaert]   \n",
       "\n",
       "                                                 url   doi journal cites  year  \n",
       "0  https://www.jstage.jst.go.jp/article/aez/37/3/...  None    None    17  2002  \n",
       "1  https://onlinelibrary.wiley.com/doi/abs/10.111...  None    None     7  2017  \n",
       "2  https://www.jstage.jst.go.jp/article/bpb/41/4/...  None    None     6  2018  \n",
       "3  https://onlinelibrary.wiley.com/doi/abs/10.111...  None    None    59  2006  \n",
       "4  https://onlinelibrary.wiley.com/doi/abs/10.104...  None    None    33  2002  \n",
       "5  http://en.cnki.com.cn/Article_en/CJFDTotal-DWX...  None    None     3  1989  \n",
       "6  https://www.sciencedirect.com/science/article/...  None    None    16  2008  \n",
       "7  http://www.academia.edu/download/31978647/kim_...  None    None    15  1994  \n",
       "8  https://www.academia.edu/download/31784676/arc...  None    None    16  1991  \n",
       "9  http://www.academia.edu/download/48262467/Bequ...  None    None    28  1936  "
      ]
     },
     "execution_count": 48,
     "metadata": {},
     "output_type": "execute_result"
    }
   ],
   "source": [
    "publications = vespa.search_publications(n = 10,as_df = True,source = \"google\")\n",
    "publications"
   ]
  },
  {
   "cell_type": "code",
   "execution_count": 49,
   "metadata": {
    "ExecuteTime": {
     "end_time": "2020-10-12T09:39:28.979346Z",
     "start_time": "2020-10-12T09:39:27.531434Z"
    }
   },
   "outputs": [
    {
     "data": {
      "text/html": [
       "<div>\n",
       "<style scoped>\n",
       "    .dataframe tbody tr th:only-of-type {\n",
       "        vertical-align: middle;\n",
       "    }\n",
       "\n",
       "    .dataframe tbody tr th {\n",
       "        vertical-align: top;\n",
       "    }\n",
       "\n",
       "    .dataframe thead th {\n",
       "        text-align: right;\n",
       "    }\n",
       "</style>\n",
       "<table border=\"1\" class=\"dataframe\">\n",
       "  <thead>\n",
       "    <tr style=\"text-align: right;\">\n",
       "      <th></th>\n",
       "      <th>title</th>\n",
       "      <th>abstract</th>\n",
       "      <th>author</th>\n",
       "      <th>url</th>\n",
       "      <th>doi</th>\n",
       "      <th>journal</th>\n",
       "      <th>cites</th>\n",
       "      <th>year</th>\n",
       "    </tr>\n",
       "  </thead>\n",
       "  <tbody>\n",
       "    <tr>\n",
       "      <th>0</th>\n",
       "      <td>Cella di prova automatizzata per verifiche a f...</td>\n",
       "      <td>Questo studio, svolto in collaborazione con la...</td>\n",
       "      <td>[Palladino, Antonio]</td>\n",
       "      <td>https://core.ac.uk/download/pdf/14691365.pdf</td>\n",
       "      <td>None</td>\n",
       "      <td>Pisa University</td>\n",
       "      <td>[]</td>\n",
       "      <td>2045</td>\n",
       "    </tr>\n",
       "    <tr>\n",
       "      <th>1</th>\n",
       "      <td>Conflitti riproduttivi intracoloniali in Polis...</td>\n",
       "      <td>Le operaie di molti insetti sociali non si rip...</td>\n",
       "      <td>[Cini, Alessandro]</td>\n",
       "      <td></td>\n",
       "      <td>None</td>\n",
       "      <td>Pisa University</td>\n",
       "      <td>[]</td>\n",
       "      <td>2047</td>\n",
       "    </tr>\n",
       "    <tr>\n",
       "      <th>2</th>\n",
       "      <td>Ice e sviluppo del commercio con la Cina</td>\n",
       "      <td>La storia delle relazioni tra Cina e Italia ha...</td>\n",
       "      <td>[BANI, ANITA]</td>\n",
       "      <td></td>\n",
       "      <td>None</td>\n",
       "      <td>Pisa University</td>\n",
       "      <td>[]</td>\n",
       "      <td>2052</td>\n",
       "    </tr>\n",
       "    <tr>\n",
       "      <th>3</th>\n",
       "      <td>L' EFFETTO DOPPELGANGER NELLA PERCEZIONE DELLA...</td>\n",
       "      <td>L' EFFETTO DOPPELGANGER NELLA PERCEZIONE DELLA...</td>\n",
       "      <td>[FRANCO, ENRICO]</td>\n",
       "      <td>https://core.ac.uk/download/pdf/14696445.pdf</td>\n",
       "      <td>None</td>\n",
       "      <td>Pisa University</td>\n",
       "      <td>[]</td>\n",
       "      <td>2048</td>\n",
       "    </tr>\n",
       "    <tr>\n",
       "      <th>4</th>\n",
       "      <td>Valutazioni e soluzioni riguardo alla tracciab...</td>\n",
       "      <td>La situazione del Mercato del settore 2R degli...</td>\n",
       "      <td>[ZECCHIN, LUANA]</td>\n",
       "      <td></td>\n",
       "      <td>None</td>\n",
       "      <td>Pisa University</td>\n",
       "      <td>[]</td>\n",
       "      <td>2088</td>\n",
       "    </tr>\n",
       "    <tr>\n",
       "      <th>5</th>\n",
       "      <td>Analisi del mercato internazionale trasporti –...</td>\n",
       "      <td>La tesi ha affrontato lo studio e analisi del ...</td>\n",
       "      <td>[Abate, Giovanni]</td>\n",
       "      <td>https://core.ac.uk/download/pdf/14693649.pdf</td>\n",
       "      <td>None</td>\n",
       "      <td>Pisa University</td>\n",
       "      <td>[]</td>\n",
       "      <td>2047</td>\n",
       "    </tr>\n",
       "    <tr>\n",
       "      <th>6</th>\n",
       "      <td>Population Genetic Structure of the Introduced...</td>\n",
       "      <td>168 p.Thesis (Ph.D.)--University of Illinois a...</td>\n",
       "      <td>[Collins, Sean Anthony]</td>\n",
       "      <td></td>\n",
       "      <td>None</td>\n",
       "      <td>None</td>\n",
       "      <td>[]</td>\n",
       "      <td>10000</td>\n",
       "    </tr>\n",
       "    <tr>\n",
       "      <th>7</th>\n",
       "      <td>Caratterizzazione delle emissioni di motori al...</td>\n",
       "      <td>Il presente lavoro di tesi si inserisce nell’a...</td>\n",
       "      <td>[GHETTI, LAURA]</td>\n",
       "      <td></td>\n",
       "      <td>None</td>\n",
       "      <td>Pisa University</td>\n",
       "      <td>[]</td>\n",
       "      <td>2049</td>\n",
       "    </tr>\n",
       "    <tr>\n",
       "      <th>8</th>\n",
       "      <td>IgE e IgG4 nell'immunoterapia specifica con ve...</td>\n",
       "      <td>Quello degli imenotteri è un gruppo di insetti...</td>\n",
       "      <td>[D'AMATO, CLAUDIA]</td>\n",
       "      <td></td>\n",
       "      <td>None</td>\n",
       "      <td>Pisa University</td>\n",
       "      <td>[]</td>\n",
       "      <td>2087</td>\n",
       "    </tr>\n",
       "    <tr>\n",
       "      <th>9</th>\n",
       "      <td>Population Genetic Structure of the Introduced...</td>\n",
       "      <td>168 p.Thesis (Ph.D.)--University of Illinois a...</td>\n",
       "      <td>[Collins, Sean Anthony]</td>\n",
       "      <td></td>\n",
       "      <td>None</td>\n",
       "      <td>None</td>\n",
       "      <td>[]</td>\n",
       "      <td>10000</td>\n",
       "    </tr>\n",
       "  </tbody>\n",
       "</table>\n",
       "</div>"
      ],
      "text/plain": [
       "                                               title  \\\n",
       "0  Cella di prova automatizzata per verifiche a f...   \n",
       "1  Conflitti riproduttivi intracoloniali in Polis...   \n",
       "2           Ice e sviluppo del commercio con la Cina   \n",
       "3  L' EFFETTO DOPPELGANGER NELLA PERCEZIONE DELLA...   \n",
       "4  Valutazioni e soluzioni riguardo alla tracciab...   \n",
       "5  Analisi del mercato internazionale trasporti –...   \n",
       "6  Population Genetic Structure of the Introduced...   \n",
       "7  Caratterizzazione delle emissioni di motori al...   \n",
       "8  IgE e IgG4 nell'immunoterapia specifica con ve...   \n",
       "9  Population Genetic Structure of the Introduced...   \n",
       "\n",
       "                                            abstract                   author  \\\n",
       "0  Questo studio, svolto in collaborazione con la...     [Palladino, Antonio]   \n",
       "1  Le operaie di molti insetti sociali non si rip...       [Cini, Alessandro]   \n",
       "2  La storia delle relazioni tra Cina e Italia ha...            [BANI, ANITA]   \n",
       "3  L' EFFETTO DOPPELGANGER NELLA PERCEZIONE DELLA...         [FRANCO, ENRICO]   \n",
       "4  La situazione del Mercato del settore 2R degli...         [ZECCHIN, LUANA]   \n",
       "5  La tesi ha affrontato lo studio e analisi del ...        [Abate, Giovanni]   \n",
       "6  168 p.Thesis (Ph.D.)--University of Illinois a...  [Collins, Sean Anthony]   \n",
       "7  Il presente lavoro di tesi si inserisce nell’a...          [GHETTI, LAURA]   \n",
       "8  Quello degli imenotteri è un gruppo di insetti...       [D'AMATO, CLAUDIA]   \n",
       "9  168 p.Thesis (Ph.D.)--University of Illinois a...  [Collins, Sean Anthony]   \n",
       "\n",
       "                                            url   doi          journal cites  \\\n",
       "0  https://core.ac.uk/download/pdf/14691365.pdf  None  Pisa University    []   \n",
       "1                                                None  Pisa University    []   \n",
       "2                                                None  Pisa University    []   \n",
       "3  https://core.ac.uk/download/pdf/14696445.pdf  None  Pisa University    []   \n",
       "4                                                None  Pisa University    []   \n",
       "5  https://core.ac.uk/download/pdf/14693649.pdf  None  Pisa University    []   \n",
       "6                                                None             None    []   \n",
       "7                                                None  Pisa University    []   \n",
       "8                                                None  Pisa University    []   \n",
       "9                                                None             None    []   \n",
       "\n",
       "    year  \n",
       "0   2045  \n",
       "1   2047  \n",
       "2   2052  \n",
       "3   2048  \n",
       "4   2088  \n",
       "5   2047  \n",
       "6  10000  \n",
       "7   2049  \n",
       "8   2087  \n",
       "9  10000  "
      ]
     },
     "execution_count": 49,
     "metadata": {},
     "output_type": "execute_result"
    }
   ],
   "source": [
    "publications = vespa.search_publications(n = 10,as_df = True,source = \"coreac\")\n",
    "publications"
   ]
  },
  {
   "cell_type": "markdown",
   "metadata": {},
   "source": [
    "##### Features to develop\n",
    "- Filtering by language\n",
    "- Filtering by journal\n",
    "- Scoring relevance\n",
    "- Extracting functions from the articles"
   ]
  },
  {
   "cell_type": "markdown",
   "metadata": {},
   "source": [
    "## Use case 2 : you don't know the latin name, just the regular name (vernacular name)"
   ]
  },
  {
   "cell_type": "markdown",
   "metadata": {},
   "source": [
    "Let's say you are less of an expert, you just know the english or french name of a species, also called vernacular name. <br>\n",
    "You can use the GBIF Search API wrapper as followed"
   ]
  },
  {
   "cell_type": "code",
   "execution_count": 51,
   "metadata": {
    "ExecuteTime": {
     "end_time": "2020-10-12T09:43:02.578996Z",
     "start_time": "2020-10-12T09:43:01.940136Z"
    }
   },
   "outputs": [
    {
     "data": {
      "text/plain": [
       "[Species(name=Balaena musculus),\n",
       " Species(name=Balaenoptera musculus),\n",
       " Species(name=Balaenoptera physalus),\n",
       " Species(name=Zeusia herculea),\n",
       " Species(name=Ziminella vrijenhoeki),\n",
       " Species(name=Pleuroncodes planipes),\n",
       " Species(name=Remora australis),\n",
       " Species(name=Coronula diadema),\n",
       " Species(name=Praya dubia),\n",
       " Species(name=Bruhathkayosaurus matleyi),\n",
       " Species(name=Goezeella siluri),\n",
       " Species(name=Lobodon carcinophaga),\n",
       " Species(name=Balaenoptera borealis),\n",
       " Species(name=Dosidicus gigas),\n",
       " Species(name=Balaenoptera omurai),\n",
       " Species(name=Armillaria ostoyae),\n",
       " Species(name=Orcinus orca),\n",
       " Species(name=Cyanea spec.),\n",
       " Species(name=Balaenoptera bonaerensis),\n",
       " Species(name=Armillaria gallica),\n",
       " Species(name=Eubalaena japonica),\n",
       " Species(name=Physeter macrocephalus),\n",
       " Species(name=Megaptera novaeangliae),\n",
       " Species(name=Eschrichtius robustus),\n",
       " Species(name=Balaenoptera acutorostrata)]"
      ]
     },
     "execution_count": 51,
     "metadata": {},
     "output_type": "execute_result"
    }
   ],
   "source": [
    "whales = gbif.search(\"blue whale\")\n",
    "whales"
   ]
  },
  {
   "cell_type": "markdown",
   "metadata": {
    "ExecuteTime": {
     "end_time": "2020-10-11T15:01:12.567603Z",
     "start_time": "2020-10-11T15:01:12.367138Z"
    }
   },
   "source": [
    "You actually get many species in a list, each element functions the same way as shown in use case 1. For example if we take the best match (first element in the list). "
   ]
  },
  {
   "cell_type": "code",
   "execution_count": 59,
   "metadata": {
    "ExecuteTime": {
     "end_time": "2020-10-12T09:45:52.266438Z",
     "start_time": "2020-10-12T09:45:52.016917Z"
    }
   },
   "outputs": [
    {
     "data": {
      "text/plain": [
       "Species(name=Balaenoptera musculus)"
      ]
     },
     "execution_count": 59,
     "metadata": {},
     "output_type": "execute_result"
    }
   ],
   "source": [
    "blue_whale = whales[1]\n",
    "blue_whale"
   ]
  },
  {
   "cell_type": "code",
   "execution_count": 60,
   "metadata": {
    "ExecuteTime": {
     "end_time": "2020-10-12T09:45:57.028300Z",
     "start_time": "2020-10-12T09:45:52.896716Z"
    }
   },
   "outputs": [
    {
     "data": {
      "image/png": "[encoded data removed]",
      "text/plain": [
       "<PIL.JpegImagePlugin.JpegImageFile image mode=RGB size=290x201 at 0x28B3060BF88>"
      ]
     },
     "execution_count": 60,
     "metadata": {},
     "output_type": "execute_result"
    }
   ],
   "source": [
    "blue_whale.get_wikipedia_image(as_img = True)"
   ]
  },
  {
   "cell_type": "code",
   "execution_count": 61,
   "metadata": {
    "ExecuteTime": {
     "end_time": "2020-10-12T09:45:58.620060Z",
     "start_time": "2020-10-12T09:45:57.840837Z"
    }
   },
   "outputs": [
    {
     "name": "stdout",
     "output_type": "stream",
     "text": [
      "La baleine bleue (Balaenoptera musculus), appelée aussi rorqual bleu, est une espèce de cétacés de la famille des Balaenopteridae. Pouvant dépasser 30 mètres de longueur et 170 tonnes, c'est le plus gros animal vivant à notre époque et dans l'état actuel des connaissances, le plus gros (avant deux grands sauropodes dont le séismosaure) ayant vécu sur Terre.\n",
      "Long et mince, le corps de la baleine bleue peut prendre diverses teintes de gris-bleuté sur le dos et un peu plus clair en dessous. On déno ...\n"
     ]
    }
   ],
   "source": [
    "print(blue_whale.get_wikipedia_description()[:500] + \" ...\")"
   ]
  },
  {
   "cell_type": "code",
   "execution_count": 62,
   "metadata": {
    "ExecuteTime": {
     "end_time": "2020-10-12T09:46:17.535094Z",
     "start_time": "2020-10-12T09:46:16.498985Z"
    }
   },
   "outputs": [
    {
     "data": {
      "text/html": [
       "<div>\n",
       "<style scoped>\n",
       "    .dataframe tbody tr th:only-of-type {\n",
       "        vertical-align: middle;\n",
       "    }\n",
       "\n",
       "    .dataframe tbody tr th {\n",
       "        vertical-align: top;\n",
       "    }\n",
       "\n",
       "    .dataframe thead th {\n",
       "        text-align: right;\n",
       "    }\n",
       "</style>\n",
       "<table border=\"1\" class=\"dataframe\">\n",
       "  <thead>\n",
       "    <tr style=\"text-align: right;\">\n",
       "      <th></th>\n",
       "      <th>title</th>\n",
       "      <th>abstract</th>\n",
       "      <th>author</th>\n",
       "      <th>url</th>\n",
       "      <th>doi</th>\n",
       "      <th>journal</th>\n",
       "      <th>cites</th>\n",
       "      <th>year</th>\n",
       "    </tr>\n",
       "  </thead>\n",
       "  <tbody>\n",
       "    <tr>\n",
       "      <th>0</th>\n",
       "      <td>Biodiversity of macrofaunal assemblages from t...</td>\n",
       "      <td>The macrofaunal assemblages from three Portugu...</td>\n",
       "      <td>[Cunha, Marina R., Paterson, Gordon L. J., Ama...</td>\n",
       "      <td>https://core.ac.uk/download/pdf/15564608.pdf</td>\n",
       "      <td>10.1016/j.dsr2.2011.04.007</td>\n",
       "      <td>Elsevier</td>\n",
       "      <td>[]</td>\n",
       "      <td>10000</td>\n",
       "    </tr>\n",
       "    <tr>\n",
       "      <th>1</th>\n",
       "      <td>High prokaryotic biodiversity associated with ...</td>\n",
       "      <td>Sediments in the Nazare Canyon (NE Atlantic) a...</td>\n",
       "      <td>[Amaro, Teresa, Luna, Gian Marco, Danovaro, Ro...</td>\n",
       "      <td></td>\n",
       "      <td>10.1016/j.dsr.2012.01.007</td>\n",
       "      <td>Elsevier</td>\n",
       "      <td>[]</td>\n",
       "      <td>10000</td>\n",
       "    </tr>\n",
       "    <tr>\n",
       "      <th>2</th>\n",
       "      <td>Identifying Functional Orthologs between Homo ...</td>\n",
       "      <td>Over billions of years, organizms have gone th...</td>\n",
       "      <td>[Heimberg, Graham]</td>\n",
       "      <td></td>\n",
       "      <td>None</td>\n",
       "      <td>None</td>\n",
       "      <td>[]</td>\n",
       "      <td>10000</td>\n",
       "    </tr>\n",
       "    <tr>\n",
       "      <th>3</th>\n",
       "      <td>Toxicology of Three Plant Neurotoxins in Droso...</td>\n",
       "      <td>65 p.Thesis (Ph.D.)--University of Illinois at...</td>\n",
       "      <td>[Lustofin, Katrina]</td>\n",
       "      <td></td>\n",
       "      <td>None</td>\n",
       "      <td>None</td>\n",
       "      <td>[]</td>\n",
       "      <td>10000</td>\n",
       "    </tr>\n",
       "    <tr>\n",
       "      <th>4</th>\n",
       "      <td>Pathological Changes and Immunity Associated W...</td>\n",
       "      <td>171 p.Thesis (Ph.D.)--University of Illinois a...</td>\n",
       "      <td>[Blagburn, Byron Lynn]</td>\n",
       "      <td></td>\n",
       "      <td>None</td>\n",
       "      <td>None</td>\n",
       "      <td>[]</td>\n",
       "      <td>10000</td>\n",
       "    </tr>\n",
       "    <tr>\n",
       "      <th>5</th>\n",
       "      <td>Deep-sea bacterial communities in sediments an...</td>\n",
       "      <td>Deposit-feeding holothurians often dominate th...</td>\n",
       "      <td>[Amaro, T, Witte, H, Herndl, GJ, Cunha, MR, Bi...</td>\n",
       "      <td></td>\n",
       "      <td>10.1016/j.dsr.2009.05.014</td>\n",
       "      <td>Elsevier</td>\n",
       "      <td>[]</td>\n",
       "      <td>10000</td>\n",
       "    </tr>\n",
       "    <tr>\n",
       "      <th>6</th>\n",
       "      <td>Pathological Changes and Immunity Associated W...</td>\n",
       "      <td>171 p.Thesis (Ph.D.)--University of Illinois a...</td>\n",
       "      <td>[Blagburn, Byron Lynn]</td>\n",
       "      <td></td>\n",
       "      <td>None</td>\n",
       "      <td>None</td>\n",
       "      <td>[]</td>\n",
       "      <td>10000</td>\n",
       "    </tr>\n",
       "    <tr>\n",
       "      <th>7</th>\n",
       "      <td>Biochemical Changes in the Musculus Complexus ...</td>\n",
       "      <td>100 p.Thesis (Ph.D.)--University of Illinois a...</td>\n",
       "      <td>[Smail, James Richard]</td>\n",
       "      <td></td>\n",
       "      <td>None</td>\n",
       "      <td>None</td>\n",
       "      <td>[]</td>\n",
       "      <td>10000</td>\n",
       "    </tr>\n",
       "    <tr>\n",
       "      <th>8</th>\n",
       "      <td>Genetic Changes in Pseudorabies Virus After Pa...</td>\n",
       "      <td>161 p.Thesis (Ph.D.)--University of Illinois a...</td>\n",
       "      <td>[Hsu, Christopher H.]</td>\n",
       "      <td></td>\n",
       "      <td>None</td>\n",
       "      <td>None</td>\n",
       "      <td>[]</td>\n",
       "      <td>10000</td>\n",
       "    </tr>\n",
       "    <tr>\n",
       "      <th>9</th>\n",
       "      <td>Genetic Changes in Pseudorabies Virus After Pa...</td>\n",
       "      <td>161 p.Thesis (Ph.D.)--University of Illinois a...</td>\n",
       "      <td>[Hsu, Christopher H.]</td>\n",
       "      <td></td>\n",
       "      <td>None</td>\n",
       "      <td>None</td>\n",
       "      <td>[]</td>\n",
       "      <td>10000</td>\n",
       "    </tr>\n",
       "  </tbody>\n",
       "</table>\n",
       "</div>"
      ],
      "text/plain": [
       "                                               title  \\\n",
       "0  Biodiversity of macrofaunal assemblages from t...   \n",
       "1  High prokaryotic biodiversity associated with ...   \n",
       "2  Identifying Functional Orthologs between Homo ...   \n",
       "3  Toxicology of Three Plant Neurotoxins in Droso...   \n",
       "4  Pathological Changes and Immunity Associated W...   \n",
       "5  Deep-sea bacterial communities in sediments an...   \n",
       "6  Pathological Changes and Immunity Associated W...   \n",
       "7  Biochemical Changes in the Musculus Complexus ...   \n",
       "8  Genetic Changes in Pseudorabies Virus After Pa...   \n",
       "9  Genetic Changes in Pseudorabies Virus After Pa...   \n",
       "\n",
       "                                            abstract  \\\n",
       "0  The macrofaunal assemblages from three Portugu...   \n",
       "1  Sediments in the Nazare Canyon (NE Atlantic) a...   \n",
       "2  Over billions of years, organizms have gone th...   \n",
       "3  65 p.Thesis (Ph.D.)--University of Illinois at...   \n",
       "4  171 p.Thesis (Ph.D.)--University of Illinois a...   \n",
       "5  Deposit-feeding holothurians often dominate th...   \n",
       "6  171 p.Thesis (Ph.D.)--University of Illinois a...   \n",
       "7  100 p.Thesis (Ph.D.)--University of Illinois a...   \n",
       "8  161 p.Thesis (Ph.D.)--University of Illinois a...   \n",
       "9  161 p.Thesis (Ph.D.)--University of Illinois a...   \n",
       "\n",
       "                                              author  \\\n",
       "0  [Cunha, Marina R., Paterson, Gordon L. J., Ama...   \n",
       "1  [Amaro, Teresa, Luna, Gian Marco, Danovaro, Ro...   \n",
       "2                                 [Heimberg, Graham]   \n",
       "3                                [Lustofin, Katrina]   \n",
       "4                             [Blagburn, Byron Lynn]   \n",
       "5  [Amaro, T, Witte, H, Herndl, GJ, Cunha, MR, Bi...   \n",
       "6                             [Blagburn, Byron Lynn]   \n",
       "7                             [Smail, James Richard]   \n",
       "8                              [Hsu, Christopher H.]   \n",
       "9                              [Hsu, Christopher H.]   \n",
       "\n",
       "                                            url                         doi  \\\n",
       "0  https://core.ac.uk/download/pdf/15564608.pdf  10.1016/j.dsr2.2011.04.007   \n",
       "1                                                 10.1016/j.dsr.2012.01.007   \n",
       "2                                                                      None   \n",
       "3                                                                      None   \n",
       "4                                                                      None   \n",
       "5                                                 10.1016/j.dsr.2009.05.014   \n",
       "6                                                                      None   \n",
       "7                                                                      None   \n",
       "8                                                                      None   \n",
       "9                                                                      None   \n",
       "\n",
       "    journal cites   year  \n",
       "0  Elsevier    []  10000  \n",
       "1  Elsevier    []  10000  \n",
       "2      None    []  10000  \n",
       "3      None    []  10000  \n",
       "4      None    []  10000  \n",
       "5  Elsevier    []  10000  \n",
       "6      None    []  10000  \n",
       "7      None    []  10000  \n",
       "8      None    []  10000  \n",
       "9      None    []  10000  "
      ]
     },
     "execution_count": 62,
     "metadata": {},
     "output_type": "execute_result"
    }
   ],
   "source": [
    "blue_whale.search_publications(n = 10,source = \"coreac\")"
   ]
  }
 ],
 "metadata": {
  "kernelspec": {
   "display_name": "Python 3",
   "language": "python",
   "name": "python3"
  },
  "language_info": {
   "codemirror_mode": {
    "name": "ipython",
    "version": 3
   },
   "file_extension": ".py",
   "mimetype": "text/x-python",
   "name": "python",
   "nbconvert_exporter": "python",
   "pygments_lexer": "ipython3",
   "version": "3.7.4"
  },
  "toc": {
   "base_numbering": 1,
   "nav_menu": {},
   "number_sections": true,
   "sideBar": true,
   "skip_h1_title": false,
   "title_cell": "Table of Contents",
   "title_sidebar": "Contents",
   "toc_cell": false,
   "toc_position": {},
   "toc_section_display": true,
   "toc_window_display": false
  }
 },
 "nbformat": 4,
 "nbformat_minor": 2
}
