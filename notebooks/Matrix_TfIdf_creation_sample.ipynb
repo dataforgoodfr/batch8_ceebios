{
 "cells": [
  {
   "cell_type": "markdown",
   "metadata": {},
   "source": [
    "# creation d'une matrice tf-idf sur des espèces collectés dans la base gbif\n",
    "\n",
    "A) tf-idf\n",
    "\n",
    "- load and clean gbif dataset\n",
    "- create a Tf matrix\n",
    "- create a tf-idf matrix\n",
    "\n",
    "B) find a documents similarity with a query search, \n",
    "- recherche du mode de calcul de distance le plus approprié\n"
   ]
  },
  {
   "cell_type": "markdown",
   "metadata": {},
   "source": [
    "### Term Frequency (tf): \n",
    "gives us the frequency of the word in each document in the corpus. It is the ratio of number of times the word appears in a document compared to the total number of words in that document. It increases as the number of occurrences of that word within the document increases. Each document has its own tf\n",
    "\n",
    "- tf_i = nombre d'occurence du terme i / nombre total dans le document\n"
   ]
  },
  {
   "cell_type": "markdown",
   "metadata": {},
   "source": [
    "### Inverse Data Frequency (idf): \n",
    "used to calculate the weight of rare words across all documents in the corpus. The words that occur rarely in the corpus have a high IDF score.\n",
    "\n",
    "\n",
    "- idf_i = log (Nombre de documents) / nombre de documents dans lequel le terme i apparait"
   ]
  },
  {
   "cell_type": "markdown",
   "metadata": {},
   "source": [
    "- Combining these two tf and idf, we come up with the TF-IDF score (w) for a word in a document in the corpus\n",
    "\n",
    "tf-idf = tfi * idf"
   ]
  },
  {
   "cell_type": "markdown",
   "metadata": {},
   "source": [
    "### Le TF-IDF (term frequency-inverse document frequency) \n",
    "- Méthode de pondration souvent utilisée en recherche d'information et en particulier dans la fouille de textes.\n",
    "Elle permet d'évaluer l'importance d'un terme contenu dans un document, relativement à une collection ou un corpus. Le poids augmente proportionnellement au nombre d'occurrences du mot dans le document.  \n",
    "Il varie également en fonction de la fréquence du mot dans le corpus. Des variantes de la formule originale sont souvent utilisées dans des moteurs de recherche pour apprécier la pertinence d'un document en fonction des critères de recherche de l'utilisateur."
   ]
  },
  {
   "cell_type": "code",
   "execution_count": 5,
   "metadata": {},
   "outputs": [],
   "source": [
    "\n",
    "import sys\n",
    "sys.path.append('../lib')\n",
    "\n",
    "\n",
    "from search_gbif import load_clean_and_generate_tf_idf, transform_query, read_clean_dataset, load_tfidf\n",
    "from scipy.spatial import distance\n"
   ]
  },
  {
   "cell_type": "code",
   "execution_count": 2,
   "metadata": {},
   "outputs": [],
   "source": [
    "fname = \"../data/tfidf/data_gbif.json\""
   ]
  },
  {
   "cell_type": "markdown",
   "metadata": {},
   "source": [
    "### A) tf-idf\n",
    "\n",
    "- load and clean gbif dataset\n",
    "- create a Tf matrix\n",
    "- create a tf-idf matrix\n"
   ]
  },
  {
   "cell_type": "code",
   "execution_count": 3,
   "metadata": {},
   "outputs": [
    {
     "name": "stdout",
     "output_type": "stream",
     "text": [
      " load dataset, and clean\n",
      "- We suppress key fields, and convert to minus\n",
      "First doc, before\n",
      "{ 'canonicalName': 'incertae sedis',\n",
      "  'higherClassificationMap': {},\n",
      "  'key': 0,\n",
      "  'kingdom': 'incertae sedis',\n",
      "  'kingdomKey': 0,\n",
      "  'rank': 'KINGDOM',\n",
      "  'scientificName': 'incertae sedis',\n",
      "  'status': 'DOUBTFUL',\n",
      "  'synonym': False}\n",
      "then\n",
      "{'terms': ['incertae sedis', 'incertae sedis', 'incertae sedis', 'kingdom', 'doubtful']}\n",
      "- Verification:\n"
     ]
    },
    {
     "data": {
      "text/html": [
       "<div>\n",
       "<style scoped>\n",
       "    .dataframe tbody tr th:only-of-type {\n",
       "        vertical-align: middle;\n",
       "    }\n",
       "\n",
       "    .dataframe tbody tr th {\n",
       "        vertical-align: top;\n",
       "    }\n",
       "\n",
       "    .dataframe thead th {\n",
       "        text-align: right;\n",
       "    }\n",
       "</style>\n",
       "<table border=\"1\" class=\"dataframe\">\n",
       "  <thead>\n",
       "    <tr style=\"text-align: right;\">\n",
       "      <th></th>\n",
       "      <th>terms</th>\n",
       "      <th>d</th>\n",
       "    </tr>\n",
       "  </thead>\n",
       "  <tbody>\n",
       "    <tr>\n",
       "      <th>0</th>\n",
       "      <td>[incertae sedis, incertae sedis, incertae sedi...</td>\n",
       "      <td>0</td>\n",
       "    </tr>\n",
       "    <tr>\n",
       "      <th>1</th>\n",
       "      <td>[animalia, animalia, animalia, kingdom, accepted]</td>\n",
       "      <td>1</td>\n",
       "    </tr>\n",
       "    <tr>\n",
       "      <th>2</th>\n",
       "      <td>[archaea, archaea, archaea, kingdom, accepted]</td>\n",
       "      <td>2</td>\n",
       "    </tr>\n",
       "    <tr>\n",
       "      <th>3</th>\n",
       "      <td>[bacteria, bacteria, bacteria, kingdom, accepted]</td>\n",
       "      <td>3</td>\n",
       "    </tr>\n",
       "    <tr>\n",
       "      <th>4</th>\n",
       "      <td>[chromista, chromista, chromista, kingdom, acc...</td>\n",
       "      <td>4</td>\n",
       "    </tr>\n",
       "  </tbody>\n",
       "</table>\n",
       "</div>"
      ],
      "text/plain": [
       "                                               terms  d\n",
       "0  [incertae sedis, incertae sedis, incertae sedi...  0\n",
       "1  [animalia, animalia, animalia, kingdom, accepted]  1\n",
       "2     [archaea, archaea, archaea, kingdom, accepted]  2\n",
       "3  [bacteria, bacteria, bacteria, kingdom, accepted]  3\n",
       "4  [chromista, chromista, chromista, kingdom, acc...  4"
      ]
     },
     "metadata": {},
     "output_type": "display_data"
    },
    {
     "name": "stdout",
     "output_type": "stream",
     "text": [
      "Calcul de la frequence des mots\n",
      "Words list created, size: 388\n",
      "- mots les plus fréquents:\n",
      "                  0      1\n",
      "0          accepted  26853\n",
      "1             class  19400\n",
      "2          animalia  11993\n",
      "3           plantae   6146\n",
      "4          bacteria   4552\n",
      "..              ...    ...\n",
      "95          cestoda    322\n",
      "96  verrucomicrobia    320\n",
      "97      cycliophora    311\n",
      "98      eurotatoria    308\n",
      "99         heliozoa    306\n",
      "\n",
      "[100 rows x 2 columns]\n",
      "corpus len: 27600\n",
      "- create tf matrix\n",
      "-Vectorized matrix,  (27600, 390)\n",
      " first line:\n",
      "[0 0 0 0 0 0 0 0 0 0 0 0 0 0 0 0 0 0 0 0 0 0 0 0 0 0 0 0 0 0 0 0 0 0 0 0 0\n",
      " 0 0 0 0 0 0 0 0 0 0 0 0 0 0 0 0 0 0 0 0 0 0 0 0 0 0 0 0 0 0 0 0 0 0 0 0 0\n",
      " 0 0 0 0 0 0 0 0 0 0 0 0 0 0 0 0 0 0 0 0 0 0 0 0 0 0 0 0 0 0 0 0 0 0 0 0 0\n",
      " 0 0 0 0 0 0 0 0 0 0 0 0 0 0 0 0 0 0 0 0 0 0 0 0 0 1 0 0 0 0 0 0 0 0 0 0 0\n",
      " 0 0 0 0 0 0 0 0 0 0 0 0 0 0 0 0 0 0 0 0 0 0 0 0 0 0 0 0 0 0 0 0 0 0 0 0 0\n",
      " 0 0 0 0 0 0 0 0 0 0 0 0 0 0 0 3 0 0 0 0 1 0 0 0 0 0 0 0 0 0 0 0 0 0 0 0 0\n",
      " 0 0 0 0 0 0 0 0 0 0 0 0 0 0 0 0 0 0 0 0 0 0 0 0 0 0 0 0 0 0 0 0 0 0 0 0 0\n",
      " 0 0 0 0 0 0 0 0 0 0 0 0 0 0 0 0 0 0 0 0 0 0 0 0 0 0 0 0 0 0 0 0 0 0 0 0 0\n",
      " 0 0 0 0 0 0 0 0 0 0 0 0 0 0 0 0 0 0 0 0 0 0 0 0 0 0 0 0 0 0 0 0 0 0 0 0 0\n",
      " 0 0 0 0 0 0 0 0 0 0 3 0 0 0 0 0 0 0 0 0 0 0 0 0 0 0 0 0 0 0 0 0 0 0 0 0 0\n",
      " 0 0 0 0 0 0 0 0 0 0 0 0 0 0 0 0 0 0 0 0]\n",
      "- Nombre de features :390\n",
      "['acantharia', 'acanthocephala', 'accepted', 'acidobacteria', 'actinobacteria', 'actinophryida', 'actinopterygii', 'adenophorea', 'agaricomycetes', 'agaricostilbomycetes']  ...\n",
      "tf feature names - saved\n",
      "tf matrix: ../data/tfidf/data_tf.npz  - saved\n",
      "- create tfidf matrix\n",
      "-Tfidf matrix,  (27600, 390)\n",
      " first line:\n",
      "[0.         0.         0.         0.         0.         0.\n",
      " 0.         0.         0.         0.         0.         0.\n",
      " 0.         0.         0.         0.         0.         0.\n",
      " 0.         0.         0.         0.         0.         0.\n",
      " 0.         0.         0.         0.         0.         0.\n",
      " 0.         0.         0.         0.         0.         0.\n",
      " 0.         0.         0.         0.         0.         0.\n",
      " 0.         0.         0.         0.         0.         0.\n",
      " 0.         0.         0.         0.         0.         0.\n",
      " 0.         0.         0.         0.         0.         0.\n",
      " 0.         0.         0.         0.         0.         0.\n",
      " 0.         0.         0.         0.         0.         0.\n",
      " 0.         0.         0.         0.         0.         0.\n",
      " 0.         0.         0.         0.         0.         0.\n",
      " 0.         0.         0.         0.         0.         0.\n",
      " 0.         0.         0.         0.         0.         0.\n",
      " 0.         0.         0.         0.         0.         0.\n",
      " 0.         0.         0.         0.         0.         0.\n",
      " 0.         0.         0.         0.         0.         0.\n",
      " 0.         0.         0.         0.         0.         0.\n",
      " 0.         0.         0.         0.         0.         0.\n",
      " 0.         0.         0.         0.         0.         0.\n",
      " 0.         0.         0.         0.         0.22649474 0.\n",
      " 0.         0.         0.         0.         0.         0.\n",
      " 0.         0.         0.         0.         0.         0.\n",
      " 0.         0.         0.         0.         0.         0.\n",
      " 0.         0.         0.         0.         0.         0.\n",
      " 0.         0.         0.         0.         0.         0.\n",
      " 0.         0.         0.         0.         0.         0.\n",
      " 0.         0.         0.         0.         0.         0.\n",
      " 0.         0.         0.         0.         0.         0.\n",
      " 0.         0.         0.         0.         0.         0.\n",
      " 0.         0.         0.         0.         0.         0.\n",
      " 0.         0.         0.67948422 0.         0.         0.\n",
      " 0.         0.15906767 0.         0.         0.         0.\n",
      " 0.         0.         0.         0.         0.         0.\n",
      " 0.         0.         0.         0.         0.         0.\n",
      " 0.         0.         0.         0.         0.         0.\n",
      " 0.         0.         0.         0.         0.         0.\n",
      " 0.         0.         0.         0.         0.         0.\n",
      " 0.         0.         0.         0.         0.         0.\n",
      " 0.         0.         0.         0.         0.         0.\n",
      " 0.         0.         0.         0.         0.         0.\n",
      " 0.         0.         0.         0.         0.         0.\n",
      " 0.         0.         0.         0.         0.         0.\n",
      " 0.         0.         0.         0.         0.         0.\n",
      " 0.         0.         0.         0.         0.         0.\n",
      " 0.         0.         0.         0.         0.         0.\n",
      " 0.         0.         0.         0.         0.         0.\n",
      " 0.         0.         0.         0.         0.         0.\n",
      " 0.         0.         0.         0.         0.         0.\n",
      " 0.         0.         0.         0.         0.         0.\n",
      " 0.         0.         0.         0.         0.         0.\n",
      " 0.         0.         0.         0.         0.         0.\n",
      " 0.         0.         0.         0.         0.         0.\n",
      " 0.         0.         0.         0.         0.         0.\n",
      " 0.         0.         0.         0.         0.         0.\n",
      " 0.         0.67948422 0.         0.         0.         0.\n",
      " 0.         0.         0.         0.         0.         0.\n",
      " 0.         0.         0.         0.         0.         0.\n",
      " 0.         0.         0.         0.         0.         0.\n",
      " 0.         0.         0.         0.         0.         0.\n",
      " 0.         0.         0.         0.         0.         0.\n",
      " 0.         0.         0.         0.         0.         0.\n",
      " 0.         0.         0.         0.         0.         0.        ]\n",
      "- Nombre de features :390\n",
      "['acantharia', 'acanthocephala', 'accepted', 'acidobacteria', 'actinobacteria', 'actinophryida', 'actinopterygii', 'adenophorea', 'agaricomycetes', 'agaricostilbomycetes']  ...\n",
      "tfidf feature names - saved\n",
      "tfidf matrix: ../data/tfidf/data_tfidf.npz  - saved\n"
     ]
    }
   ],
   "source": [
    "load_clean_and_generate_tf_idf(fname)"
   ]
  },
  {
   "cell_type": "markdown",
   "metadata": {},
   "source": [
    "\n",
    "### B) find a documents similarity to a query\n",
    "- load tdif, gbif dataset"
   ]
  },
  {
   "cell_type": "code",
   "execution_count": 3,
   "metadata": {},
   "outputs": [
    {
     "name": "stderr",
     "output_type": "stream",
     "text": [
      "c:\\users\\christian\\appdata\\local\\programs\\python\\python36\\lib\\site-packages\\sklearn\\base.py:311: UserWarning: Trying to unpickle estimator TfidfTransformer from version 0.20.1 when using version 0.19.1. This might lead to breaking code or invalid results. Use at your own risk.\n",
      "  UserWarning)\n",
      "c:\\users\\christian\\appdata\\local\\programs\\python\\python36\\lib\\site-packages\\sklearn\\base.py:311: UserWarning: Trying to unpickle estimator TfidfVectorizer from version 0.20.1 when using version 0.19.1. This might lead to breaking code or invalid results. Use at your own risk.\n",
      "  UserWarning)\n"
     ]
    },
    {
     "name": "stdout",
     "output_type": "stream",
     "text": [
      "-Example of transform names, with query\n",
      "-Example of transform names, with query ['zygnematophyceae zygomycota']\n",
      " result vector:\n",
      "(1, 390)\n",
      "[[0.         0.         0.         0.         0.         0.\n",
      "  0.         0.         0.         0.         0.         0.\n",
      "  0.         0.         0.         0.         0.         0.\n",
      "  0.         0.         0.         0.         0.         0.\n",
      "  0.         0.         0.         0.         0.         0.\n",
      "  0.         0.         0.         0.         0.         0.\n",
      "  0.         0.         0.         0.         0.         0.\n",
      "  0.         0.         0.         0.         0.         0.\n",
      "  0.         0.         0.         0.         0.         0.\n",
      "  0.         0.         0.         0.         0.         0.\n",
      "  0.         0.         0.         0.         0.         0.\n",
      "  0.         0.         0.         0.         0.         0.\n",
      "  0.         0.         0.         0.         0.         0.\n",
      "  0.         0.         0.         0.         0.         0.\n",
      "  0.         0.         0.         0.         0.         0.\n",
      "  0.         0.         0.         0.         0.         0.\n",
      "  0.         0.         0.         0.         0.         0.\n",
      "  0.         0.         0.         0.         0.         0.\n",
      "  0.         0.         0.         0.         0.         0.\n",
      "  0.         0.         0.         0.         0.         0.\n",
      "  0.         0.         0.         0.         0.         0.\n",
      "  0.         0.         0.         0.         0.         0.\n",
      "  0.         0.         0.         0.         0.         0.\n",
      "  0.         0.         0.         0.         0.         0.\n",
      "  0.         0.         0.         0.         0.         0.\n",
      "  0.         0.         0.         0.         0.         0.\n",
      "  0.         0.         0.         0.         0.         0.\n",
      "  0.         0.         0.         0.         0.         0.\n",
      "  0.         0.         0.         0.         0.         0.\n",
      "  0.         0.         0.         0.         0.         0.\n",
      "  0.         0.         0.         0.         0.         0.\n",
      "  0.         0.         0.         0.         0.         0.\n",
      "  0.         0.         0.         0.         0.         0.\n",
      "  0.         0.         0.         0.         0.         0.\n",
      "  0.         0.         0.         0.         0.         0.\n",
      "  0.         0.         0.         0.         0.         0.\n",
      "  0.         0.         0.         0.         0.         0.\n",
      "  0.         0.         0.         0.         0.         0.\n",
      "  0.         0.         0.         0.         0.         0.\n",
      "  0.         0.         0.         0.         0.         0.\n",
      "  0.         0.         0.         0.         0.         0.\n",
      "  0.         0.         0.         0.         0.         0.\n",
      "  0.         0.         0.         0.         0.         0.\n",
      "  0.         0.         0.         0.         0.         0.\n",
      "  0.         0.         0.         0.         0.         0.\n",
      "  0.         0.         0.         0.         0.         0.\n",
      "  0.         0.         0.         0.         0.         0.\n",
      "  0.         0.         0.         0.         0.         0.\n",
      "  0.         0.         0.         0.         0.         0.\n",
      "  0.         0.         0.         0.         0.         0.\n",
      "  0.         0.         0.         0.         0.         0.\n",
      "  0.         0.         0.         0.         0.         0.\n",
      "  0.         0.         0.         0.         0.         0.\n",
      "  0.         0.         0.         0.         0.         0.\n",
      "  0.         0.         0.         0.         0.         0.\n",
      "  0.         0.         0.         0.         0.         0.\n",
      "  0.         0.         0.         0.         0.         0.\n",
      "  0.         0.         0.         0.         0.         0.\n",
      "  0.         0.         0.         0.         0.         0.\n",
      "  0.         0.         0.         0.         0.         0.\n",
      "  0.         0.         0.         0.         0.         0.\n",
      "  0.         0.         0.         0.         0.         0.\n",
      "  0.         0.         0.         0.         0.         0.\n",
      "  0.         0.         0.         0.         0.         0.\n",
      "  0.         0.         0.         0.         0.69540451 0.71861851]]\n",
      " load gbif dataset, and clean\n",
      "- We suppress key fields, and convert to minus\n",
      "First doc, before\n",
      "{ 'canonicalName': 'incertae sedis',\n",
      "  'higherClassificationMap': {},\n",
      "  'key': 0,\n",
      "  'kingdom': 'incertae sedis',\n",
      "  'kingdomKey': 0,\n",
      "  'rank': 'KINGDOM',\n",
      "  'scientificName': 'incertae sedis',\n",
      "  'status': 'DOUBTFUL',\n",
      "  'synonym': False}\n",
      "then\n",
      "{'terms': ['incertae sedis', 'incertae sedis', 'incertae sedis', 'kingdom', 'doubtful']}\n",
      "- Verification:\n",
      "head:\n"
     ]
    },
    {
     "data": {
      "text/plain": [
       "0    [incertae sedis, incertae sedis, incertae sedi...\n",
       "1    [animalia, animalia, animalia, kingdom, accepted]\n",
       "2       [archaea, archaea, archaea, kingdom, accepted]\n",
       "3    [bacteria, bacteria, bacteria, kingdom, accepted]\n",
       "4    [chromista, chromista, chromista, kingdom, acc...\n",
       "Name: terms, dtype: object"
      ]
     },
     "metadata": {},
     "output_type": "display_data"
    },
    {
     "name": "stdout",
     "output_type": "stream",
     "text": [
      "tail:\n"
     ]
    },
    {
     "data": {
      "text/plain": [
       "27595    [animalia, platyhelminthes, amphilinidea, cest...\n",
       "27596    [animalia, rotifera, collothecacea, eurotatori...\n",
       "27597    [chromista, ochrophyta, stictocyclales, bacill...\n",
       "27598    [chromista, ochrophyta, paraliales, bacillario...\n",
       "27599    [chromista, ochrophyta, thalassiosirales, baci...\n",
       "Name: terms, dtype: object"
      ]
     },
     "metadata": {},
     "output_type": "display_data"
    }
   ],
   "source": [
    "# load models\n",
    "data_names, X, vectorizer_model = load_tfidf()\n",
    "    \n",
    "print(\" load gbif dataset, and clean\")\n",
    "fname = \"../data/tfidf/data_gbif.json\"\n",
    "dataset = read_clean_dataset(fname)\n",
    "    \n",
    "print('- Verification:')\n",
    "print('head:')\n",
    "display(dataset['terms'].head())\n",
    "print('tail:')\n",
    "display(dataset['terms'].tail())\n"
   ]
  },
  {
   "cell_type": "markdown",
   "metadata": {},
   "source": [
    "### calculate different distance, with one query "
   ]
  },
  {
   "cell_type": "code",
   "execution_count": 6,
   "metadata": {},
   "outputs": [
    {
     "name": "stdout",
     "output_type": "stream",
     "text": [
      "Query: zygnematophyceae zygomycota\n",
      "metric braycurtis\n",
      "[[1. 1. 1. ... 1. 1. 1.]]\n",
      "metric canberra\n",
      "[[6. 5. 5. ... 8. 8. 8.]]\n",
      "metric chebyshev\n",
      "[[0.71861851 0.77977446 0.86693916 ... 0.90983784 0.9142572  0.91997606]]\n",
      "metric cityblock\n",
      "[[3.15855387 2.91872833 2.84320793 ... 3.05431457 3.04143086 3.02398492]]\n",
      "metric correlation\n",
      "[[1.00636631 1.0054856  1.00520879 ... 1.00598318 1.00593587 1.0058718 ]]\n",
      "metric cosine\n",
      "[[1. 1. 1. ... 1. 1. 1.]]\n",
      "metric dice\n",
      "[[1. 1. 1. ... 1. 1. 1.]]\n",
      "metric euclidean\n",
      "[[1.41421356 1.41421356 1.41421356 ... 1.41421356 1.41421356 1.41421356]]\n",
      "metric hamming\n",
      "[[0.01538462 0.01282051 0.01282051 ... 0.02051282 0.02051282 0.02051282]]\n",
      "metric jaccard\n",
      "[[1. 1. 1. ... 1. 1. 1.]]\n",
      "metric kulsinski\n",
      "[[1. 1. 1. ... 1. 1. 1.]]\n",
      "metric mahalanobis\n",
      "[[              nan 60119386.88941303 19749607.17384794 ...\n",
      "                nan               nan               nan]]\n",
      "metric matching\n",
      "[[0.01538462 0.01282051 0.01282051 ... 0.02051282 0.02051282 0.02051282]]\n",
      "metric minkowski\n",
      "[[1.41421356 1.41421356 1.41421356 ... 1.41421356 1.41421356 1.41421356]]\n",
      "metric rogerstanimoto\n",
      "[[0.03030303 0.02531646 0.02531646 ... 0.04020101 0.04020101 0.04020101]]\n",
      "metric russellrao\n",
      "[[1. 1. 1. ... 1. 1. 1.]]\n",
      "metric seuclidean\n",
      "[[288.48731418  42.91258049  36.36905846 ...  98.60314179 119.64738764\n",
      "  167.64928198]]\n",
      "metric sokalmichener\n",
      "[[0.03030303 0.02531646 0.02531646 ... 0.04020101 0.04020101 0.04020101]]\n",
      "metric sokalsneath\n",
      "[[1. 1. 1. ... 1. 1. 1.]]\n",
      "metric sqeuclidean\n",
      "[[2. 2. 2. ... 2. 2. 2.]]\n",
      "metric yule\n",
      "[[2. 2. 2. ... 2. 2. 2.]]\n"
     ]
    }
   ],
   "source": [
    "if True:\n",
    "    query = ['zygnematophyceae zygomycota']\n",
    "    print('Query:', query[0])\n",
    "    x0 = transform_query(vectorizer_model, query)\n",
    "    \n",
    "    kind = ['braycurtis', 'canberra', 'chebyshev', 'cityblock', 'correlation', 'cosine', 'dice', 'euclidean', 'hamming', 'jaccard', \\\n",
    "            'kulsinski', 'mahalanobis', 'matching', 'minkowski', 'rogerstanimoto',\\\n",
    "            'russellrao', 'seuclidean', 'sokalmichener', 'sokalsneath', 'sqeuclidean', 'yule']\n",
    "    for metric in kind:\n",
    "        d = distance.cdist(x0, X.toarray(), metric)\n",
    "        print('metric', metric)\n",
    "        print(d)\n"
   ]
  },
  {
   "cell_type": "markdown",
   "metadata": {},
   "source": [
    "- les distances \"chebyshev\" et \"seuclidean\" apparaissent les plus intéressantes\n"
   ]
  },
  {
   "cell_type": "markdown",
   "metadata": {},
   "source": [
    "### Definition\n",
    "- The Chebyshev distance between two n-vectors u and v is the maximum norm-1 distance between their respective elements.\n",
    "- seuclidean = Computes the standardized Euclidean distance\n"
   ]
  },
  {
   "cell_type": "markdown",
   "metadata": {},
   "source": [
    "#### Distance chebyshev Versus distance standard euclidian"
   ]
  },
  {
   "cell_type": "code",
   "execution_count": 13,
   "metadata": {},
   "outputs": [
    {
     "name": "stdout",
     "output_type": "stream",
     "text": [
      "query: 1 \" anthocerotophyta \" , metric: chebyshev\n",
      "12     [plantae, anthocerotophyta, plantae, anthocero...\n",
      "111    [plantae, anthocerotophyta, plantae, anthocero...\n",
      "210    [plantae, anthocerotophyta, plantae, anthocero...\n",
      "309    [plantae, anthocerotophyta, plantae, anthocero...\n",
      "408    [plantae, anthocerotophyta, plantae, anthocero...\n",
      "507    [plantae, anthocerotophyta, plantae, anthocero...\n",
      "606    [plantae, anthocerotophyta, plantae, anthocero...\n",
      "705    [plantae, anthocerotophyta, plantae, anthocero...\n",
      "804    [plantae, anthocerotophyta, plantae, anthocero...\n",
      "903    [plantae, anthocerotophyta, plantae, anthocero...\n",
      "Name: terms, dtype: object\n",
      "\n",
      "query: 1 \" anthocerotophyta \" , metric: seuclidean\n",
      "12     [plantae, anthocerotophyta, plantae, anthocero...\n",
      "111    [plantae, anthocerotophyta, plantae, anthocero...\n",
      "210    [plantae, anthocerotophyta, plantae, anthocero...\n",
      "309    [plantae, anthocerotophyta, plantae, anthocero...\n",
      "408    [plantae, anthocerotophyta, plantae, anthocero...\n",
      "507    [plantae, anthocerotophyta, plantae, anthocero...\n",
      "606    [plantae, anthocerotophyta, plantae, anthocero...\n",
      "705    [plantae, anthocerotophyta, plantae, anthocero...\n",
      "804    [plantae, anthocerotophyta, plantae, anthocero...\n",
      "903    [plantae, anthocerotophyta, plantae, anthocero...\n",
      "Name: terms, dtype: object\n",
      "\n",
      "query: 2 \" archaea kingdom accepted \" , metric: chebyshev\n",
      "2         [archaea, archaea, archaea, kingdom, accepted]\n",
      "101       [archaea, archaea, archaea, kingdom, accepted]\n",
      "200       [archaea, archaea, archaea, kingdom, accepted]\n",
      "1      [animalia, animalia, animalia, kingdom, accepted]\n",
      "100    [animalia, animalia, animalia, kingdom, accepted]\n",
      "0      [incertae sedis, incertae sedis, incertae sedi...\n",
      "6         [plantae, plantae, plantae, kingdom, accepted]\n",
      "105       [plantae, plantae, plantae, kingdom, accepted]\n",
      "204       [plantae, plantae, plantae, kingdom, accepted]\n",
      "303       [plantae, plantae, plantae, kingdom, accepted]\n",
      "Name: terms, dtype: object\n",
      "\n",
      "query: 2 \" archaea kingdom accepted \" , metric: seuclidean\n",
      "1      [animalia, animalia, animalia, kingdom, accepted]\n",
      "100    [animalia, animalia, animalia, kingdom, accepted]\n",
      "6         [plantae, plantae, plantae, kingdom, accepted]\n",
      "105       [plantae, plantae, plantae, kingdom, accepted]\n",
      "204       [plantae, plantae, plantae, kingdom, accepted]\n",
      "303       [plantae, plantae, plantae, kingdom, accepted]\n",
      "402       [plantae, plantae, plantae, kingdom, accepted]\n",
      "501       [plantae, plantae, plantae, kingdom, accepted]\n",
      "600       [plantae, plantae, plantae, kingdom, accepted]\n",
      "2         [archaea, archaea, archaea, kingdom, accepted]\n",
      "Name: terms, dtype: object\n",
      "\n",
      "query: 3 \" chromista ochrophyta thalassiosirales \" , metric: chebyshev\n",
      "27599    [chromista, ochrophyta, thalassiosirales, baci...\n",
      "0        [incertae sedis, incertae sedis, incertae sedi...\n",
      "1        [animalia, animalia, animalia, kingdom, accepted]\n",
      "2           [archaea, archaea, archaea, kingdom, accepted]\n",
      "3        [bacteria, bacteria, bacteria, kingdom, accepted]\n",
      "4        [chromista, chromista, chromista, kingdom, acc...\n",
      "5                 [fungi, fungi, fungi, kingdom, accepted]\n",
      "6           [plantae, plantae, plantae, kingdom, accepted]\n",
      "7        [protozoa, protozoa, protozoa, kingdom, accepted]\n",
      "17       [archaea, euryarchaeota, archaea, euryarchaeot...\n",
      "Name: terms, dtype: object\n",
      "\n",
      "query: 3 \" chromista ochrophyta thalassiosirales \" , metric: seuclidean\n",
      "27599    [chromista, ochrophyta, thalassiosirales, baci...\n",
      "81       [chromista, ochrophyta, chromista, ochrophyta,...\n",
      "180      [chromista, ochrophyta, chromista, ochrophyta,...\n",
      "279      [chromista, ochrophyta, chromista, ochrophyta,...\n",
      "378      [chromista, ochrophyta, chromista, ochrophyta,...\n",
      "477      [chromista, ochrophyta, chromista, ochrophyta,...\n",
      "576      [chromista, ochrophyta, chromista, ochrophyta,...\n",
      "675      [chromista, ochrophyta, chromista, ochrophyta,...\n",
      "774      [chromista, ochrophyta, chromista, ochrophyta,...\n",
      "873      [chromista, ochrophyta, chromista, ochrophyta,...\n",
      "Name: terms, dtype: object\n",
      "\n"
     ]
    }
   ],
   "source": [
    "if True:\n",
    "    metric_lst = ['chebyshev','seuclidean']\n",
    "    test_lst = ['anthocerotophyta',\n",
    "                'archaea kingdom accepted',\n",
    "                'chromista ochrophyta thalassiosirales']\n",
    "    for i, test in enumerate(test_lst):\n",
    "        x0 = transform_query(vectorizer_model, [test])\n",
    "        for metric in metric_lst:\n",
    "            d = distance.cdist(x0, X.toarray(), metric)[0]\n",
    "            print('query:',i+1,  '\"', test, '\"', ', metric:', metric)\n",
    "            index_lst = sorted(range(len(d)), key=lambda k: d[k])\n",
    "            dataset['d'] = d                     \n",
    "            print(dataset['terms'][index_lst[0:10]])\n",
    "            print()"
   ]
  },
  {
   "cell_type": "markdown",
   "metadata": {},
   "source": [
    "- conclusion, la distance de chebychev est plus pertinente sur la query:2, mais un peu moins bien sur  query:3,\n",
    "        "
   ]
  },
  {
   "cell_type": "code",
   "execution_count": null,
   "metadata": {},
   "outputs": [],
   "source": []
  }
 ],
 "metadata": {
  "kernelspec": {
   "display_name": "Python 3",
   "language": "python",
   "name": "python3"
  },
  "language_info": {
   "codemirror_mode": {
    "name": "ipython",
    "version": 3
   },
   "file_extension": ".py",
   "mimetype": "text/x-python",
   "name": "python",
   "nbconvert_exporter": "python",
   "pygments_lexer": "ipython3",
   "version": "3.6.5"
  }
 },
 "nbformat": 4,
 "nbformat_minor": 2
}
