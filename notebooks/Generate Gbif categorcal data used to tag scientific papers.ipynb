{
 "cells": [
  {
   "cell_type": "markdown",
   "metadata": {},
   "source": [
    "### Generate Gbif catergoricals data used to tag scientific papers with species, family, or genus\n",
    "\n",
    "Christian Marechal"
   ]
  },
  {
   "cell_type": "code",
   "execution_count": 1,
   "metadata": {},
   "outputs": [
    {
     "name": "stderr",
     "output_type": "stream",
     "text": [
      "C:\\Users\\CHRISTIAN\\AppData\\Roaming\\Python\\Python36\\site-packages\\spacy\\util.py:275: UserWarning: [W031] Model 'en_core_sci_sm' (0.2.4) requires spaCy v2.2 and is incompatible with the current spaCy version (2.3.2). This may lead to unexpected results or runtime errors. To resolve this, download a newer compatible model or retrain your custom model with the current spaCy version. For more details and available updates, run: python -m spacy validate\n",
      "  warnings.warn(warn_msg)\n"
     ]
    }
   ],
   "source": [
    "import sys\n",
    "sys.path.append('../base_open_source')\n",
    "\n",
    "from data_base_exploration import read_gbif_extract_csvCategorical"
   ]
  },
  {
   "cell_type": "code",
   "execution_count": 2,
   "metadata": {},
   "outputs": [
    {
     "name": "stdout",
     "output_type": "stream",
     "text": [
      "(101000, 44) ['Unnamed: 0', 'key', 'nubKey', 'nameKey', 'taxonID', 'sourceTaxonKey', 'kingdom', 'phylum', 'order', 'family', 'kingdomKey', 'phylumKey', 'classKey', 'orderKey', 'familyKey', 'datasetKey', 'constituentKey', 'parentKey', 'parent', 'scientificName', 'canonicalName', 'authorship', 'nameType', 'rank', 'origin', 'taxonomicStatus', 'nomenclaturalStatus', 'remarks', 'numDescendants', 'lastCrawled', 'lastInterpreted', 'issues', 'synonym', 'class', 'publishedIn', 'acceptedKey', 'accepted', 'proParteKey', 'genus', 'genusKey', 'species', 'speciesKey', 'basionymKey', 'basionym']\n",
      "-important columns:\n",
      "(101000, 7) ['speciesKey', 'canonicalName', 'family', 'familyKey', 'genus', 'genusKey', 'rank']\n",
      "rank list: ['family' 'order' 'genus' 'species' 'kingdom' 'phylum' 'class'\n",
      " 'subspecies']\n",
      "df  family  generate: ../data/gbif_extract_family.csv\n",
      "(7480, 3) ['familyKey', 'family', 'rank']\n",
      "   familyKey         family    rank\n",
      "0     8003.0      melitidae  family\n",
      "1     8004.0   mimonectidae  family\n",
      "2     8005.0     ochlesidae  family\n",
      "3     8006.0  oedicerotidae  family\n",
      "4     8007.0       opisidae  family\n",
      "df  genus  generate: ../data/gbif_extract_genus.csv\n",
      "(11744, 3) ['genusKey', 'genus', 'rank']\n",
      "    genusKey         genus   rank\n",
      "0  1000002.0  caldisphaera  genus\n",
      "1  1000004.0   pyrodictium  genus\n",
      "2  1000008.0  hyperthermus  genus\n",
      "3  1000010.0     pyrolobus  genus\n",
      "4  1000012.0    acidilobus  genus\n",
      "df_species (80600, 7)\n",
      "   speciesKey            canonicalName            family  familyKey         genus   genusKey     rank\n",
      "0   1000003.0  caldisphaera lagunensis  caldisphaeraceae     7785.0  caldisphaera  1000002.0  species\n",
      "1   1000005.0     pyrodictium occultum    pyrodictiaceae     3797.0   pyrodictium  1000004.0  species\n",
      "2   1000006.0       pyrodictium abyssi    pyrodictiaceae     3797.0   pyrodictium  1000004.0  species\n",
      "3   1000007.0      pyrodictium brockii    pyrodictiaceae     3797.0   pyrodictium  1000004.0  species\n",
      "4   1000009.0   hyperthermus butylicus    pyrodictiaceae     3797.0  hyperthermus  1000008.0  species\n",
      "df  species and subspecies  generate: ../data/gbif_extract_species.csv\n",
      "Categorical <=> concat family + genus + species names list\n",
      "df_cat (99824, 3)\n",
      "df  categories = [family+genus+species]  generate: ../data/gbif_extract_categories.csv\n"
     ]
    }
   ],
   "source": [
    "dg = read_gbif_extract_csvCategorical()"
   ]
  },
  {
   "cell_type": "code",
   "execution_count": 8,
   "metadata": {},
   "outputs": [
    {
     "name": "stdout",
     "output_type": "stream",
     "text": [
      "(99824, 3) ['key', 'name', 'rank']\n",
      "['family' 'genus' 'species' 'subspecies']\n"
     ]
    },
    {
     "data": {
      "text/html": [
       "<div>\n",
       "<style scoped>\n",
       "    .dataframe tbody tr th:only-of-type {\n",
       "        vertical-align: middle;\n",
       "    }\n",
       "\n",
       "    .dataframe tbody tr th {\n",
       "        vertical-align: top;\n",
       "    }\n",
       "\n",
       "    .dataframe thead th {\n",
       "        text-align: right;\n",
       "    }\n",
       "</style>\n",
       "<table border=\"1\" class=\"dataframe\">\n",
       "  <thead>\n",
       "    <tr style=\"text-align: right;\">\n",
       "      <th></th>\n",
       "      <th>key</th>\n",
       "      <th>name</th>\n",
       "      <th>rank</th>\n",
       "    </tr>\n",
       "  </thead>\n",
       "  <tbody>\n",
       "    <tr>\n",
       "      <th>0</th>\n",
       "      <td>8003.0</td>\n",
       "      <td>melitidae</td>\n",
       "      <td>family</td>\n",
       "    </tr>\n",
       "    <tr>\n",
       "      <th>1</th>\n",
       "      <td>8004.0</td>\n",
       "      <td>mimonectidae</td>\n",
       "      <td>family</td>\n",
       "    </tr>\n",
       "    <tr>\n",
       "      <th>2</th>\n",
       "      <td>8005.0</td>\n",
       "      <td>ochlesidae</td>\n",
       "      <td>family</td>\n",
       "    </tr>\n",
       "    <tr>\n",
       "      <th>3</th>\n",
       "      <td>8006.0</td>\n",
       "      <td>oedicerotidae</td>\n",
       "      <td>family</td>\n",
       "    </tr>\n",
       "    <tr>\n",
       "      <th>4</th>\n",
       "      <td>8007.0</td>\n",
       "      <td>opisidae</td>\n",
       "      <td>family</td>\n",
       "    </tr>\n",
       "  </tbody>\n",
       "</table>\n",
       "</div>"
      ],
      "text/plain": [
       "      key           name    rank\n",
       "0  8003.0      melitidae  family\n",
       "1  8004.0   mimonectidae  family\n",
       "2  8005.0     ochlesidae  family\n",
       "3  8006.0  oedicerotidae  family\n",
       "4  8007.0       opisidae  family"
      ]
     },
     "metadata": {},
     "output_type": "display_data"
    },
    {
     "name": "stdout",
     "output_type": "stream",
     "text": [
      "rank== family\n"
     ]
    },
    {
     "data": {
      "text/html": [
       "<div>\n",
       "<style scoped>\n",
       "    .dataframe tbody tr th:only-of-type {\n",
       "        vertical-align: middle;\n",
       "    }\n",
       "\n",
       "    .dataframe tbody tr th {\n",
       "        vertical-align: top;\n",
       "    }\n",
       "\n",
       "    .dataframe thead th {\n",
       "        text-align: right;\n",
       "    }\n",
       "</style>\n",
       "<table border=\"1\" class=\"dataframe\">\n",
       "  <thead>\n",
       "    <tr style=\"text-align: right;\">\n",
       "      <th></th>\n",
       "      <th>key</th>\n",
       "      <th>name</th>\n",
       "      <th>rank</th>\n",
       "    </tr>\n",
       "  </thead>\n",
       "  <tbody>\n",
       "    <tr>\n",
       "      <th>0</th>\n",
       "      <td>8003.0</td>\n",
       "      <td>melitidae</td>\n",
       "      <td>family</td>\n",
       "    </tr>\n",
       "    <tr>\n",
       "      <th>1</th>\n",
       "      <td>8004.0</td>\n",
       "      <td>mimonectidae</td>\n",
       "      <td>family</td>\n",
       "    </tr>\n",
       "    <tr>\n",
       "      <th>2</th>\n",
       "      <td>8005.0</td>\n",
       "      <td>ochlesidae</td>\n",
       "      <td>family</td>\n",
       "    </tr>\n",
       "    <tr>\n",
       "      <th>3</th>\n",
       "      <td>8006.0</td>\n",
       "      <td>oedicerotidae</td>\n",
       "      <td>family</td>\n",
       "    </tr>\n",
       "    <tr>\n",
       "      <th>4</th>\n",
       "      <td>8007.0</td>\n",
       "      <td>opisidae</td>\n",
       "      <td>family</td>\n",
       "    </tr>\n",
       "  </tbody>\n",
       "</table>\n",
       "</div>"
      ],
      "text/plain": [
       "      key           name    rank\n",
       "0  8003.0      melitidae  family\n",
       "1  8004.0   mimonectidae  family\n",
       "2  8005.0     ochlesidae  family\n",
       "3  8006.0  oedicerotidae  family\n",
       "4  8007.0       opisidae  family"
      ]
     },
     "metadata": {},
     "output_type": "display_data"
    },
    {
     "name": "stdout",
     "output_type": "stream",
     "text": [
      "rank== genus\n"
     ]
    },
    {
     "data": {
      "text/html": [
       "<div>\n",
       "<style scoped>\n",
       "    .dataframe tbody tr th:only-of-type {\n",
       "        vertical-align: middle;\n",
       "    }\n",
       "\n",
       "    .dataframe tbody tr th {\n",
       "        vertical-align: top;\n",
       "    }\n",
       "\n",
       "    .dataframe thead th {\n",
       "        text-align: right;\n",
       "    }\n",
       "</style>\n",
       "<table border=\"1\" class=\"dataframe\">\n",
       "  <thead>\n",
       "    <tr style=\"text-align: right;\">\n",
       "      <th></th>\n",
       "      <th>key</th>\n",
       "      <th>name</th>\n",
       "      <th>rank</th>\n",
       "    </tr>\n",
       "  </thead>\n",
       "  <tbody>\n",
       "    <tr>\n",
       "      <th>7480</th>\n",
       "      <td>1000002.0</td>\n",
       "      <td>caldisphaera</td>\n",
       "      <td>genus</td>\n",
       "    </tr>\n",
       "    <tr>\n",
       "      <th>7481</th>\n",
       "      <td>1000004.0</td>\n",
       "      <td>pyrodictium</td>\n",
       "      <td>genus</td>\n",
       "    </tr>\n",
       "    <tr>\n",
       "      <th>7482</th>\n",
       "      <td>1000008.0</td>\n",
       "      <td>hyperthermus</td>\n",
       "      <td>genus</td>\n",
       "    </tr>\n",
       "    <tr>\n",
       "      <th>7483</th>\n",
       "      <td>1000010.0</td>\n",
       "      <td>pyrolobus</td>\n",
       "      <td>genus</td>\n",
       "    </tr>\n",
       "    <tr>\n",
       "      <th>7484</th>\n",
       "      <td>1000012.0</td>\n",
       "      <td>acidilobus</td>\n",
       "      <td>genus</td>\n",
       "    </tr>\n",
       "  </tbody>\n",
       "</table>\n",
       "</div>"
      ],
      "text/plain": [
       "            key          name   rank\n",
       "7480  1000002.0  caldisphaera  genus\n",
       "7481  1000004.0   pyrodictium  genus\n",
       "7482  1000008.0  hyperthermus  genus\n",
       "7483  1000010.0     pyrolobus  genus\n",
       "7484  1000012.0    acidilobus  genus"
      ]
     },
     "metadata": {},
     "output_type": "display_data"
    },
    {
     "name": "stdout",
     "output_type": "stream",
     "text": [
      "rank== species or subspecies\n"
     ]
    },
    {
     "data": {
      "text/html": [
       "<div>\n",
       "<style scoped>\n",
       "    .dataframe tbody tr th:only-of-type {\n",
       "        vertical-align: middle;\n",
       "    }\n",
       "\n",
       "    .dataframe tbody tr th {\n",
       "        vertical-align: top;\n",
       "    }\n",
       "\n",
       "    .dataframe thead th {\n",
       "        text-align: right;\n",
       "    }\n",
       "</style>\n",
       "<table border=\"1\" class=\"dataframe\">\n",
       "  <thead>\n",
       "    <tr style=\"text-align: right;\">\n",
       "      <th></th>\n",
       "      <th>key</th>\n",
       "      <th>name</th>\n",
       "      <th>rank</th>\n",
       "    </tr>\n",
       "  </thead>\n",
       "  <tbody>\n",
       "    <tr>\n",
       "      <th>19224</th>\n",
       "      <td>1000003.0</td>\n",
       "      <td>caldisphaera lagunensis</td>\n",
       "      <td>species</td>\n",
       "    </tr>\n",
       "    <tr>\n",
       "      <th>19225</th>\n",
       "      <td>1000005.0</td>\n",
       "      <td>pyrodictium occultum</td>\n",
       "      <td>species</td>\n",
       "    </tr>\n",
       "    <tr>\n",
       "      <th>19226</th>\n",
       "      <td>1000006.0</td>\n",
       "      <td>pyrodictium abyssi</td>\n",
       "      <td>species</td>\n",
       "    </tr>\n",
       "    <tr>\n",
       "      <th>19227</th>\n",
       "      <td>1000007.0</td>\n",
       "      <td>pyrodictium brockii</td>\n",
       "      <td>species</td>\n",
       "    </tr>\n",
       "    <tr>\n",
       "      <th>19228</th>\n",
       "      <td>1000009.0</td>\n",
       "      <td>hyperthermus butylicus</td>\n",
       "      <td>species</td>\n",
       "    </tr>\n",
       "  </tbody>\n",
       "</table>\n",
       "</div>"
      ],
      "text/plain": [
       "             key                     name     rank\n",
       "19224  1000003.0  caldisphaera lagunensis  species\n",
       "19225  1000005.0     pyrodictium occultum  species\n",
       "19226  1000006.0       pyrodictium abyssi  species\n",
       "19227  1000007.0      pyrodictium brockii  species\n",
       "19228  1000009.0   hyperthermus butylicus  species"
      ]
     },
     "metadata": {},
     "output_type": "display_data"
    }
   ],
   "source": [
    "print(dg.shape, list(dg.columns))\n",
    "print(dg['rank'].unique())\n",
    "display(dg.head())\n",
    "\n",
    "print('rank== family')\n",
    "display(dg[dg['rank']=='family'].head())\n",
    "\n",
    "\n",
    "print('rank== genus')\n",
    "display(dg[dg['rank']=='genus'].head())\n",
    "\n",
    "print('rank== species or subspecies')\n",
    "display(dg[(dg['rank']=='species') | (dg['rank']=='subspecies')].head())\n"
   ]
  },
  {
   "cell_type": "code",
   "execution_count": null,
   "metadata": {},
   "outputs": [],
   "source": []
  }
 ],
 "metadata": {
  "kernelspec": {
   "display_name": "Python 3",
   "language": "python",
   "name": "python3"
  },
  "language_info": {
   "codemirror_mode": {
    "name": "ipython",
    "version": 3
   },
   "file_extension": ".py",
   "mimetype": "text/x-python",
   "name": "python",
   "nbconvert_exporter": "python",
   "pygments_lexer": "ipython3",
   "version": "3.6.5"
  }
 },
 "nbformat": 4,
 "nbformat_minor": 2
}
