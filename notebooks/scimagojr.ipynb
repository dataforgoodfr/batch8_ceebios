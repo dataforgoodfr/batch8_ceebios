{
 "metadata": {
  "language_info": {
   "codemirror_mode": {
    "name": "ipython",
    "version": 3
   },
   "file_extension": ".py",
   "mimetype": "text/x-python",
   "name": "python",
   "nbconvert_exporter": "python",
   "pygments_lexer": "ipython3",
   "version": "3.8.1-final"
  },
  "orig_nbformat": 2,
  "kernelspec": {
   "name": "Python 3.8.1 32-bit",
   "display_name": "Python 3.8.1 32-bit",
   "metadata": {
    "interpreter": {
     "hash": "160d906dcbd031483e4066c8e50762702f51cf209b283a02e1cd7c2da3185bcd"
    }
   }
  }
 },
 "nbformat": 4,
 "nbformat_minor": 2,
 "cells": [
  {
   "cell_type": "code",
   "execution_count": 1,
   "metadata": {},
   "outputs": [],
   "source": [
    "import pandas as pd"
   ]
  },
  {
   "cell_type": "code",
   "execution_count": 3,
   "metadata": {},
   "outputs": [],
   "source": [
    "df = pd.read_csv(r'data\\scimagojr\\scimagojr2019.csv', sep=';')"
   ]
  },
  {
   "cell_type": "code",
   "execution_count": 63,
   "metadata": {},
   "outputs": [
    {
     "output_type": "execute_result",
     "data": {
      "text/plain": [
       "   Rank     Sourceid                                              Title  \\\n",
       "0     1        28773               CA - A Cancer Journal for Clinicians   \n",
       "1     2        19434  MMWR. Recommendations and reports : Morbidity ...   \n",
       "2     3  21100812243                           Nature Reviews Materials   \n",
       "3     4        29431                     Quarterly Journal of Economics   \n",
       "4     5        20315              Nature Reviews Molecular Cell Biology   \n",
       "\n",
       "      Type                Issn     SJR SJR Best Quartile  H index  \\\n",
       "0  journal  15424863, 00079235  88,192                Q1      156   \n",
       "1  journal  10575987, 15458601  41,022                Q1      138   \n",
       "2  journal            20588437  36,691                Q1       80   \n",
       "3  journal  00335533, 15314650  36,220                Q1      246   \n",
       "4  journal  14710072, 14710080  29,997                Q1      411   \n",
       "\n",
       "   Total Docs. (2019)  Total Docs. (3years)  Total Refs.  \\\n",
       "0                  36                   129         2924   \n",
       "1                   4                    11          144   \n",
       "2                  85                   288         8534   \n",
       "3                  30                   123         1909   \n",
       "4                 115                   382         9251   \n",
       "\n",
       "   Total Cites (3years)  Citable Docs. (3years) Cites / Doc. (2years)  \\\n",
       "0                 22644                      89                255,73   \n",
       "1                   898                      11                 52,00   \n",
       "2                 12569                     151                 68,34   \n",
       "3                  2020                     119                 12,65   \n",
       "4                  8074                     182                 47,70   \n",
       "\n",
       "  Ref. / Doc.         Country            Region  \\\n",
       "0       81,22   United States  Northern America   \n",
       "1       36,00   United States  Northern America   \n",
       "2      100,40  United Kingdom    Western Europe   \n",
       "3       63,63  United Kingdom    Western Europe   \n",
       "4       80,44  United Kingdom    Western Europe   \n",
       "\n",
       "                                          Publisher   Coverage  \\\n",
       "0                                   Wiley-Blackwell  1950-2020   \n",
       "1  Centers for Disease Control and Prevention (CDC)  1990-2020   \n",
       "2                           Nature Publishing Group  2016-2020   \n",
       "3                           Oxford University Press  1886-2020   \n",
       "4                           Nature Publishing Group  2000-2020   \n",
       "\n",
       "                                          Categories  \n",
       "0                     Hematology (Q1); Oncology (Q1)  \n",
       "1  Epidemiology (Q1); Health Information Manageme...  \n",
       "2  Biomaterials (Q1); Electronic, Optical and Mag...  \n",
       "3                    Economics and Econometrics (Q1)  \n",
       "4          Cell Biology (Q1); Molecular Biology (Q1)  "
      ],
      "text/html": "<div>\n<style scoped>\n    .dataframe tbody tr th:only-of-type {\n        vertical-align: middle;\n    }\n\n    .dataframe tbody tr th {\n        vertical-align: top;\n    }\n\n    .dataframe thead th {\n        text-align: right;\n    }\n</style>\n<table border=\"1\" class=\"dataframe\">\n  <thead>\n    <tr style=\"text-align: right;\">\n      <th></th>\n      <th>Rank</th>\n      <th>Sourceid</th>\n      <th>Title</th>\n      <th>Type</th>\n      <th>Issn</th>\n      <th>SJR</th>\n      <th>SJR Best Quartile</th>\n      <th>H index</th>\n      <th>Total Docs. (2019)</th>\n      <th>Total Docs. (3years)</th>\n      <th>Total Refs.</th>\n      <th>Total Cites (3years)</th>\n      <th>Citable Docs. (3years)</th>\n      <th>Cites / Doc. (2years)</th>\n      <th>Ref. / Doc.</th>\n      <th>Country</th>\n      <th>Region</th>\n      <th>Publisher</th>\n      <th>Coverage</th>\n      <th>Categories</th>\n    </tr>\n  </thead>\n  <tbody>\n    <tr>\n      <th>0</th>\n      <td>1</td>\n      <td>28773</td>\n      <td>CA - A Cancer Journal for Clinicians</td>\n      <td>journal</td>\n      <td>15424863, 00079235</td>\n      <td>88,192</td>\n      <td>Q1</td>\n      <td>156</td>\n      <td>36</td>\n      <td>129</td>\n      <td>2924</td>\n      <td>22644</td>\n      <td>89</td>\n      <td>255,73</td>\n      <td>81,22</td>\n      <td>United States</td>\n      <td>Northern America</td>\n      <td>Wiley-Blackwell</td>\n      <td>1950-2020</td>\n      <td>Hematology (Q1); Oncology (Q1)</td>\n    </tr>\n    <tr>\n      <th>1</th>\n      <td>2</td>\n      <td>19434</td>\n      <td>MMWR. Recommendations and reports : Morbidity ...</td>\n      <td>journal</td>\n      <td>10575987, 15458601</td>\n      <td>41,022</td>\n      <td>Q1</td>\n      <td>138</td>\n      <td>4</td>\n      <td>11</td>\n      <td>144</td>\n      <td>898</td>\n      <td>11</td>\n      <td>52,00</td>\n      <td>36,00</td>\n      <td>United States</td>\n      <td>Northern America</td>\n      <td>Centers for Disease Control and Prevention (CDC)</td>\n      <td>1990-2020</td>\n      <td>Epidemiology (Q1); Health Information Manageme...</td>\n    </tr>\n    <tr>\n      <th>2</th>\n      <td>3</td>\n      <td>21100812243</td>\n      <td>Nature Reviews Materials</td>\n      <td>journal</td>\n      <td>20588437</td>\n      <td>36,691</td>\n      <td>Q1</td>\n      <td>80</td>\n      <td>85</td>\n      <td>288</td>\n      <td>8534</td>\n      <td>12569</td>\n      <td>151</td>\n      <td>68,34</td>\n      <td>100,40</td>\n      <td>United Kingdom</td>\n      <td>Western Europe</td>\n      <td>Nature Publishing Group</td>\n      <td>2016-2020</td>\n      <td>Biomaterials (Q1); Electronic, Optical and Mag...</td>\n    </tr>\n    <tr>\n      <th>3</th>\n      <td>4</td>\n      <td>29431</td>\n      <td>Quarterly Journal of Economics</td>\n      <td>journal</td>\n      <td>00335533, 15314650</td>\n      <td>36,220</td>\n      <td>Q1</td>\n      <td>246</td>\n      <td>30</td>\n      <td>123</td>\n      <td>1909</td>\n      <td>2020</td>\n      <td>119</td>\n      <td>12,65</td>\n      <td>63,63</td>\n      <td>United Kingdom</td>\n      <td>Western Europe</td>\n      <td>Oxford University Press</td>\n      <td>1886-2020</td>\n      <td>Economics and Econometrics (Q1)</td>\n    </tr>\n    <tr>\n      <th>4</th>\n      <td>5</td>\n      <td>20315</td>\n      <td>Nature Reviews Molecular Cell Biology</td>\n      <td>journal</td>\n      <td>14710072, 14710080</td>\n      <td>29,997</td>\n      <td>Q1</td>\n      <td>411</td>\n      <td>115</td>\n      <td>382</td>\n      <td>9251</td>\n      <td>8074</td>\n      <td>182</td>\n      <td>47,70</td>\n      <td>80,44</td>\n      <td>United Kingdom</td>\n      <td>Western Europe</td>\n      <td>Nature Publishing Group</td>\n      <td>2000-2020</td>\n      <td>Cell Biology (Q1); Molecular Biology (Q1)</td>\n    </tr>\n  </tbody>\n</table>\n</div>"
     },
     "metadata": {},
     "execution_count": 63
    }
   ],
   "source": [
    "df.head()"
   ]
  },
  {
   "source": [
    "### Publications examples from scholarly\n",
    "\n",
    "#### Example 1\n",
    "\n",
    "```\n",
    "{'bib': {'ENTRYTYPE': 'article',\n",
    "         'ID': 'molet2014bigger',\n",
    "         'abstract': 'Introduction The mechanisms by which development favors '\n",
    "                     'or constrains the evolution of new phenotypes are '\n",
    "                     'incompletely understood. Polyphenic species may benefit '\n",
    "                     'from developmental plasticity not only regarding '\n",
    "                     'ecological advantages, but also potential for',\n",
    "         'author': 'Molet, Mathieu and Maicher, Vincent and Peeters, Christian',\n",
    "         'author_id': ['eq_B8UIAAAAJ', 'O8pvfyUAAAAJ', 't3bQSt0AAAAJ'],\n",
    "         'cites': '27',\n",
    "         'eprint': 'https://journals.plos.org/plosone/article?id=10.1371/journal.pone.0084929',\n",
    "         'gsrank': '1',\n",
    "         'journal': 'PLoS One',\n",
    "         'number': '1',\n",
    "         'pages': 'e84929',\n",
    "         'publisher': 'Public Library of Science',\n",
    "         'title': 'Bigger helpers in the ant Cataglyphis bombycina: increased '\n",
    "                  'worker polymorphism or novel soldier caste?',\n",
    "         'url': 'https://journals.plos.org/plosone/article?id=10.1371/journal.pone.0084929',\n",
    "         'venue': 'PLoS One',\n",
    "         'volume': '9',\n",
    "         'year': '2014'},\n",
    " 'citations_link': '/scholar?cites=13994519058775689889&as_sdt=5,33&sciodt=0,33&hl=en',\n",
    " 'filled': True,\n",
    " 'source': 'scholar',\n",
    " 'url_add_sclib': '/citations?hl=en&xsrf=&continue=/scholar%3Fq%3Dcataglyphis%2Bbombicina%26hl%3Den%26as_sdt%3D0,33&citilm=1&json=&update_op=library_add&info=oUrCFPCENsIJ&ei=IwSGX6jRCe-Qy9YPmPqiqAY',\n",
    " 'url_scholarbib': '/scholar?q=info:oUrCFPCENsIJ:scholar.google.com/&output=cite&scirp=0&hl=en'}\n",
    "```\n",
    "\n",
    "#### Example 2\n",
    "\n",
    "\n",
    "```\n",
    "{'bib': {'ENTRYTYPE': 'article',\n",
    "         'ID': 'gehring1995heat',\n",
    "         'abstract': 'It forages at body temperatures above 50°C, and the '\n",
    "                     'critical thermal maxima are at 53.6 + O.8AC for '\n",
    "                     'Cataglyphis bombycina and 55.1 + 1.1°C for Cataglyphis '\n",
    "                     'bicolor  The desert ants Catagly- phis bombycina and '\n",
    "                     'Cataglyphis bicolor were collected in',\n",
    "         'author': 'Gehring, Walter J and Wehner, Rudiger',\n",
    "         'author_id': [None, None],\n",
    "         'cites': '289',\n",
    "         'eprint': 'https://www.pnas.org/content/pnas/92/7/2994.full.pdf?words=Breivik',\n",
    "         'gsrank': '2',\n",
    "         'journal': 'Proceedings of the National Academy of Sciences',\n",
    "         'number': '7',\n",
    "         'pages': '2994--2998',\n",
    "         'publisher': 'National Acad Sciences',\n",
    "         'title': 'Heat shock protein synthesis and thermotolerance in '\n",
    "                  'Cataglyphis, an ant from the Sahara desert.',\n",
    "         'url': 'https://www.pnas.org/content/92/7/2994.short',\n",
    "         'venue': 'Proceedings of the National …',\n",
    "         'volume': '92',\n",
    "         'year': '1995'},\n",
    " 'citations_link': '/scholar?cites=6196011667839314634&as_sdt=5,33&sciodt=0,33&hl=en',\n",
    " 'filled': True,\n",
    " 'source': 'scholar',\n",
    " 'url_add_sclib': '/citations?hl=en&xsrf=&continue=/scholar%3Fq%3Dcataglyphis%2Bbombicina%26hl%3Den%26as_sdt%3D0,33&citilm=1&json=&update_op=library_add&info=yuq8tcin_FUJ&ei=IwSGX6jRCe-Qy9YPmPqiqAY',\n",
    " 'url_scholarbib': '/scholar?q=info:yuq8tcin_FUJ:scholar.google.com/&output=cite&scirp=1&hl=en'}\n",
    " ```"
   ],
   "cell_type": "markdown",
   "metadata": {}
  },
  {
   "cell_type": "code",
   "execution_count": 73,
   "metadata": {},
   "outputs": [],
   "source": [
    "class ScimagojrDB():\n",
    "    def __init__(self, db_path):\n",
    "        self.df = pd.read_csv(db_path, sep=';')\n",
    "\n",
    "    def find_categories(journal):\n",
    "        \"\"\"\n",
    "        \"\"\"\n",
    "        journals = self.df.loc[df.Title.str.lower().str.contains(journal.lower())]\n",
    "\n",
    "        # When we have a multiple results we pick the first\n",
    "        # one with the biggest SJR\n",
    "        journals.sort_values('SJR', ascending=False, inplace=True)\n",
    "\n",
    "        try:\n",
    "            categories = journals.iloc[0].Categories\n",
    "            return [category[:-4] for category in categories.split(';')]\n",
    "        except IndexError:\n",
    "            return None"
   ]
  },
  {
   "cell_type": "code",
   "execution_count": 74,
   "metadata": {},
   "outputs": [
    {
     "output_type": "execute_result",
     "data": {
      "text/plain": [
       "['Multidisciplinary ']"
      ]
     },
     "metadata": {},
     "execution_count": 74
    }
   ],
   "source": [
    "find_categories(pub1.bib['journal'])"
   ]
  },
  {
   "cell_type": "code",
   "execution_count": 75,
   "metadata": {},
   "outputs": [
    {
     "output_type": "execute_result",
     "data": {
      "text/plain": [
       "['Multidisciplinary ']"
      ]
     },
     "metadata": {},
     "execution_count": 75
    }
   ],
   "source": [
    "find_categories(pub2.bib['journal'])\n"
   ]
  },
  {
   "cell_type": "code",
   "execution_count": null,
   "metadata": {},
   "outputs": [],
   "source": []
  }
 ]
}